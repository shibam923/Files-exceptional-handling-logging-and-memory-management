{
  "nbformat": 4,
  "nbformat_minor": 0,
  "metadata": {
    "colab": {
      "provenance": []
    },
    "kernelspec": {
      "name": "python3",
      "display_name": "Python 3"
    },
    "language_info": {
      "name": "python"
    }
  },
  "cells": [
    {
      "cell_type": "markdown",
      "source": [
        "# Files, exceptional handling, logging and memory management"
      ],
      "metadata": {
        "id": "mEDzMO1hxD7P"
      }
    },
    {
      "cell_type": "markdown",
      "source": [
        "  Q1.  What is the difference between interpreted and compiled languages?\n",
        "\n",
        " -> The primary difference between interpreted and compiled languages lies in how they are executed by a computer. Here are the key distinctions:\n",
        "\n",
        "\n",
        "1. **Execution Method**:\n",
        "   - **Compiled Languages**: In compiled languages, the source code is translated into machine code (binary code) by a compiler before it is executed. This machine code is specific to the target platform and can be run directly by the computer's hardware. Examples include C, C++, and Rust.\n",
        "   - **Interpreted Languages**: In interpreted languages, the source code is executed line-by-line or statement-by-statement by an interpreter at runtime. There is no separate machine code generated beforehand. Examples include Python, Ruby, and JavaScript.\n",
        "\n",
        "2. **Performance**:\n",
        "   - **Compiled Languages**: Generally, compiled languages tend to have better performance because the code is optimized during the compilation process and runs directly on the hardware.\n",
        "   - **Interpreted Languages**: Interpreted languages may be slower since the interpreter has to read and execute the code on the fly, which adds overhead.\n",
        "\n",
        "3. **Portability**:\n",
        "   - **Compiled Languages**: The compiled code is often platform-specific, meaning that you need to compile the code separately for each target platform.\n",
        "   - **Interpreted Languages**: The source code is usually more portable since it can run on any platform that has the appropriate interpreter installed.\n",
        "\n",
        "4. **Development Cycle**:\n",
        "   - **Compiled Languages**: The development cycle can be longer because you need to compile the code before running it, which can slow down testing and debugging.\n",
        "   - **Interpreted Languages**: The development cycle is often faster since you can run the code immediately without a separate compilation step, making it easier to test and debug.\n",
        "\n",
        "5. **Error Detection**:\n",
        "   - **Compiled Languages**: Errors are typically caught at compile time, which can help identify issues before the program is run.\n",
        "   - **Interpreted Languages**: Errors are often caught at runtime, which can lead to issues that only appear when the specific code path is executed.\n"
      ],
      "metadata": {
        "id": "uZKqmXjubjs6"
      }
    },
    {
      "cell_type": "markdown",
      "source": [
        "  Q2.  What is exception handling in Python?\n",
        "\n",
        "  -> Exception handling in Python is a way to manage errors or unexpected events that can occur while a program is running, without crashing the whole program.\n",
        "\n",
        "Instead of letting the program crash when it encounters an error (like dividing by zero or accessing a missing file), Python lets you catch and respond to those errors using special keywords."
      ],
      "metadata": {
        "id": "BfdlcaDAdbZ6"
      }
    },
    {
      "cell_type": "markdown",
      "source": [
        " Q3. What is the purpose of the finally block in exception handling?\n",
        "\n",
        " -> The finally block is used to define code that must run no matter what happens—whether an exception occurs or not.\n",
        "\n",
        " **Main Purpose:**\n",
        "\n",
        " To ensure that cleanup actions (like closing files, releasing resources, or disconnecting from a database) are always executed, even if an error occurs.\n",
        "\n"
      ],
      "metadata": {
        "id": "RpvVm62WfCCH"
      }
    },
    {
      "cell_type": "markdown",
      "source": [
        "Q4.What is logging in Python?\n",
        "\n",
        "-> ### 📝 What is Logging in Python?\n",
        "\n",
        "**Logging** in Python is the process of **recording messages** that describe events during a program’s execution. It helps with:\n",
        "\n",
        "* **Debugging** errors\n",
        "* **Tracking** application behavior\n",
        "* **Monitoring** usage or performance\n",
        "* **Diagnosing** problems in production\n",
        "\n",
        "Python provides a built-in `logging` module for this purpose.\n",
        "\n",
        "---\n",
        "\n",
        "### ✅ Why Use Logging Instead of `print()`?\n",
        "\n",
        "| `print()`                         | `logging`                               |\n",
        "| --------------------------------- | --------------------------------------- |\n",
        "| For temporary output              | For permanent tracking & diagnostics    |\n",
        "| No severity levels                | Has severity levels (info, error, etc.) |\n",
        "| No control over where output goes | Can log to files, console, servers      |\n",
        "| Hard to manage in big programs    | Scalable & configurable                 |\n",
        "\n",
        "---\n",
        "\n"
      ],
      "metadata": {
        "id": "vjteyhQ9fzwC"
      }
    },
    {
      "cell_type": "markdown",
      "source": [
        "Q5.  What is the significance of the __del__ method in Python?\n",
        "\n",
        "-> The `__del__` method in Python is a special method, also known as a destructor, that is called when an object is about to be destroyed. It is part of the object lifecycle management in Python and is used to define cleanup actions that should be performed before an object is removed from memory. Here are some key points regarding the significance of the `__del__` method:\n",
        "\n",
        "1. **Resource Management**: The primary purpose of the `__del__` method is to allow an object to release resources it may be holding, such as file handles, network connections, or database connections. This is particularly important in scenarios where resources are limited or need to be explicitly managed.\n",
        "\n",
        "2. **Automatic Invocation**: The `__del__` method is automatically invoked by the Python garbage collector when an object’s reference count drops to zero, meaning there are no more references to the object. This can happen when the object goes out of scope or is explicitly deleted using the `del` statement.\n",
        "\n",
        "3. **Syntax**: The `__del__` method is defined within a class and takes a single parameter, `self`, which refers to the instance of the class. Here’s a simple example:\n",
        "\n",
        "   ```python\n",
        "   class MyClass:\n",
        "       def __init__(self, name):\n",
        "           self.name = name\n",
        "           print(f\"{self.name} created.\")\n",
        "\n",
        "       def __del__(self):\n",
        "           print(f\"{self.name} destroyed.\")\n",
        "\n",
        "   obj = MyClass(\"Object1\")\n",
        "   del obj  # This will trigger the __del__ method\n",
        "   ```\n",
        "\n",
        "   Output:\n",
        "   ```\n",
        "   Object1 created.\n",
        "   Object1 destroyed.\n",
        "   ```\n",
        "\n",
        "4. **Limitations**:\n",
        "   - **Unpredictable Timing**: The exact timing of when `__del__` is called is not guaranteed, especially in the presence of circular references. If two objects reference each other, they may never be destroyed, and thus their `__del__` methods may not be called.\n",
        "   - **Exceptions**: If an exception is raised in the `__del__` method, it is ignored, and the program continues execution. This can lead to silent failures, making debugging difficult.\n",
        "\n",
        "5. **Best Practices**: Due to the limitations and unpredictability of the `__del__` method, it is generally recommended to use context managers (with the `with` statement) and the `try...finally` construct for resource management. This approach provides more control over resource cleanup and is less error-prone.\n",
        "\n",
        "   Example using a context manager:\n",
        "\n",
        "   ```python\n",
        "   class MyClass:\n",
        "       def __enter__(self):\n",
        "           print(\"Resource acquired.\")\n",
        "           return self\n",
        "\n",
        "       def __exit__(self, exc_type, exc_value, traceback):\n",
        "           print(\"Resource released.\")\n",
        "\n",
        "   with MyClass() as obj:\n",
        "       print(\"Using the resource.\")\n",
        "   ```\n",
        "\n",
        "   Output:\n",
        "   ```\n",
        "   Resource acquired.\n",
        "   Using the resource.\n",
        "   Resource released.\n",
        "   ```\n",
        "\n"
      ],
      "metadata": {
        "id": "b9fa_kXuhc7e"
      }
    },
    {
      "cell_type": "markdown",
      "source": [
        "Q6. What is the difference between import and from ... import in Python?\n",
        "\n",
        "-> In Python, both `import` and `from ... import` are used to include modules in your code, but they serve slightly different purposes and have different implications. Here are the key differences between the two:\n",
        "\n",
        "1. **Syntax and Usage**:\n",
        "   - **`import`**: This statement imports the entire module, allowing you to access its functions, classes, and variables using the module name as a prefix.\n",
        "     ```python\n",
        "     import math\n",
        "     result = math.sqrt(16)  # Accessing the sqrt function from the math module\n",
        "     ```\n",
        "\n",
        "   - **`from ... import`**: This statement imports specific attributes (functions, classes, or variables) from a module directly into the current namespace, allowing you to use them without the module prefix.\n",
        "     ```python\n",
        "     from math import sqrt\n",
        "     result = sqrt(16)  # Directly using the sqrt function without the module prefix\n",
        "     ```\n",
        "\n",
        "2. **Namespace**:\n",
        "   - **`import`**: When you use `import`, the module is loaded into the namespace, and you must use the module name to access its contents. This helps avoid naming conflicts.\n",
        "   - **`from ... import`**: When you use `from ... import`, the specified attributes are imported directly into the current namespace. This can lead to naming conflicts if the same name exists in the current scope.\n",
        "\n",
        "3. **Performance**:\n",
        "   - There is no significant performance difference between the two methods in terms of loading the module. However, using `from ... import` can be slightly more efficient in terms of access time since you don't need to prefix the function or variable with the module name.\n",
        "\n",
        "4. **Wildcard Import**:\n",
        "   - You can use a wildcard import with `from ... import *`, which imports all attributes from a module into the current namespace. However, this practice is generally discouraged because it can lead to naming conflicts and make the code less readable.\n",
        "     ```python\n",
        "     from math import *\n",
        "     result = sqrt(16)  # Using sqrt without the module prefix\n",
        "     ```\n",
        "\n",
        "5. **Example**:\n",
        "   Here’s a comparison of both methods:\n",
        "\n",
        "   ```python\n",
        "   # Using import\n",
        "   import os\n",
        "   print(os.getcwd())  # Accessing the getcwd function from the os module\n",
        "\n",
        "   # Using from ... import\n",
        "   from os import getcwd\n",
        "   print(getcwd())  # Directly using the getcwd function\n",
        "   ```\n"
      ],
      "metadata": {
        "id": "_n0ijXwYiHXH"
      }
    },
    {
      "cell_type": "markdown",
      "source": [
        "Q7.  How can you handle multiple exceptions in Python?\n",
        "\n",
        "-> In Python, you can handle multiple exceptions using several approaches. This is useful when you want to catch different types of exceptions that may arise from a block of code. Here are the common methods to handle multiple exceptions:\n",
        "\n",
        "1. **Using Multiple Except Blocks**:\n",
        "   You can specify multiple `except` blocks to handle different exceptions separately. This allows you to provide specific handling for each type of exception.\n",
        "\n",
        "   ```python\n",
        "   try:\n",
        "       # Code that may raise exceptions\n",
        "       result = 10 / 0  # This will raise a ZeroDivisionError\n",
        "   except ZeroDivisionError:\n",
        "       print(\"Cannot divide by zero.\")\n",
        "   except ValueError:\n",
        "       print(\"Value error occurred.\")\n",
        "   except TypeError:\n",
        "       print(\"Type error occurred.\")\n",
        "   ```\n",
        "\n",
        "2. **Using a Tuple in a Single Except Block**:\n",
        "   You can catch multiple exceptions in a single `except` block by specifying them as a tuple. This is useful when you want to handle different exceptions in the same way.\n",
        "\n",
        "   ```python\n",
        "   try:\n",
        "       # Code that may raise exceptions\n",
        "       result = int(\"abc\")  # This will raise a ValueError\n",
        "   except (ZeroDivisionError, ValueError, TypeError) as e:\n",
        "       print(f\"An error occurred: {e}\")\n",
        "   ```\n",
        "\n",
        "3. **Using the `as` Keyword**:\n",
        "   When catching exceptions, you can use the `as` keyword to capture the exception object. This allows you to access the exception details.\n",
        "\n",
        "   ```python\n",
        "   try:\n",
        "       # Code that may raise exceptions\n",
        "       result = 10 / 0  # This will raise a ZeroDivisionError\n",
        "   except (ZeroDivisionError, ValueError) as e:\n",
        "       print(f\"An error occurred: {e}\")\n",
        "   ```\n",
        "\n",
        "4. **Using a Generic Exception**:\n",
        "   If you want to catch all exceptions, you can use a generic `except Exception` block. However, this should be used with caution, as it can make debugging difficult by hiding unexpected errors.\n",
        "\n",
        "   ```python\n",
        "   try:\n",
        "       # Code that may raise exceptions\n",
        "       result = 10 / 0  # This will raise a ZeroDivisionError\n",
        "   except Exception as e:\n",
        "       print(f\"An unexpected error occurred: {e}\")\n",
        "   ```\n",
        "\n",
        "5. **Example**:\n",
        "   Here’s a complete example demonstrating multiple exception handling:\n",
        "\n",
        "   ```python\n",
        "   def divide_numbers(a, b):\n",
        "       try:\n",
        "           return a / b\n",
        "       except (ZeroDivisionError, TypeError) as e:\n",
        "           print(f\"Error: {e}\")\n",
        "           return None\n",
        "\n",
        "   print(divide_numbers(10, 0))  # Output: Error: division by zero\n",
        "   print(divide_numbers(10, \"a\"))  # Output: Error: unsupported operand type(s) for /: 'int' and 'str'\n",
        "   ```\n",
        "\n",
        "In summary, you can handle multiple exceptions in Python using separate `except` blocks, a tuple in a single `except` block, or a generic exception handler. Each method has its use cases, and the choice depends on how you want to manage different types of exceptions in your code."
      ],
      "metadata": {
        "id": "t3Mrh2AyjVuk"
      }
    },
    {
      "cell_type": "markdown",
      "source": [
        "Q8. What is the purpose of the with statement when handling files in Python?\n",
        "\n",
        "-> The `with` statement in Python is used for resource management and exception handling, particularly when dealing with files. It simplifies the process of opening and closing files, ensuring that resources are properly managed. Here are the key purposes and benefits of using the `with` statement when handling files:\n",
        "\n",
        "1. **Automatic Resource Management**:\n",
        "   The `with` statement automatically takes care of opening and closing the file. When the block of code under the `with` statement is exited (whether normally or due to an exception), the file is automatically closed. This helps prevent resource leaks and ensures that files are properly closed even if an error occurs.\n",
        "\n",
        "   ```python\n",
        "   with open('example.txt', 'r') as file:\n",
        "       content = file.read()\n",
        "   # The file is automatically closed here, even if an error occurs within the block.\n",
        "   ```\n",
        "\n",
        "2. **Cleaner Code**:\n",
        "   Using the `with` statement leads to cleaner and more readable code. It reduces the amount of boilerplate code needed for opening and closing files, making it easier to understand the flow of the program.\n",
        "\n",
        "   ```python\n",
        "   # Without using with\n",
        "   file = open('example.txt', 'r')\n",
        "   try:\n",
        "       content = file.read()\n",
        "   finally:\n",
        "       file.close()  # Ensures the file is closed\n",
        "   ```\n",
        "\n",
        "3. **Exception Handling**:\n",
        "   If an exception occurs within the `with` block, the file will still be closed properly. This is particularly important for file operations, as failing to close a file can lead to data corruption or other issues.\n",
        "\n",
        "   ```python\n",
        "   try:\n",
        "       with open('example.txt', 'r') as file:\n",
        "           content = file.read()\n",
        "           # Simulating an error\n",
        "           raise ValueError(\"An error occurred!\")\n",
        "   except ValueError as e:\n",
        "       print(f\"Error: {e}\")\n",
        "   # The file is still closed properly here.\n",
        "   ```\n",
        "\n",
        "4. **Context Managers**:\n",
        "   The `with` statement works with context managers, which are objects that define the runtime context to be established when executing a `with` statement. The context manager handles the setup and teardown of resources. The `open` function returns a context manager that handles file opening and closing.\n",
        "\n",
        "5. **Example**:\n",
        "   Here’s a complete example demonstrating the use of the `with` statement for file handling:\n",
        "\n",
        "   ```python\n",
        "   # Writing to a file using with\n",
        "   with open('example.txt', 'w') as file:\n",
        "       file.write(\"Hello, World!\")\n",
        "\n",
        "   # Reading from a file using with\n",
        "   with open('example.txt', 'r') as file:\n",
        "       content = file.read()\n",
        "       print(content)  # Output: Hello, World!\n",
        "   ```\n"
      ],
      "metadata": {
        "id": "l0FHdk7kkisc"
      }
    },
    {
      "cell_type": "markdown",
      "source": [
        "Q9. Multithreading and multiprocessing are two approaches to achieving concurrent execution in programming, but they differ in their architecture, use cases, and how they manage resources. Here are the key differences between the two:\n",
        "\n",
        "1. **Definition**:\n",
        "   - **Multithreading**: This involves multiple threads within a single process. Threads share the same memory space and resources of the parent process, allowing for lightweight context switching and communication between threads.\n",
        "   - **Multiprocessing**: This involves multiple processes, each with its own memory space and resources. Processes run independently and do not share memory, which can lead to more overhead in terms of inter-process communication.\n",
        "\n",
        "2. **Memory Usage**:\n",
        "   - **Multithreading**: Threads share the same memory space, which makes it more memory-efficient. However, this can lead to issues such as race conditions and deadlocks if not managed properly.\n",
        "   - **Multiprocessing**: Each process has its own memory space, which provides better isolation and stability. However, this can lead to higher memory usage since each process maintains its own copy of data.\n",
        "\n",
        "3. **Performance**:\n",
        "   - **Multithreading**: It is generally more efficient for I/O-bound tasks (e.g., network operations, file I/O) because threads can run concurrently while waiting for I/O operations to complete. However, due to the Global Interpreter Lock (GIL) in CPython, multithreading may not provide significant performance improvements for CPU-bound tasks.\n",
        "   - **Multiprocessing**: It is more suitable for CPU-bound tasks (e.g., heavy computations) because each process can run on a separate CPU core, allowing for true parallelism. This can lead to better performance for tasks that require significant CPU resources.\n",
        "\n",
        "4. **Complexity**:\n",
        "   - **Multithreading**: Managing threads can be more complex due to shared memory and the need for synchronization mechanisms (e.g., locks, semaphores) to prevent data corruption and ensure thread safety.\n",
        "   - **Multiprocessing**: While processes are more isolated, inter-process communication (IPC) can be more complex and slower compared to thread communication. Common IPC methods include pipes, queues, and shared memory.\n",
        "\n",
        "5. **Use Cases**:\n",
        "   - **Multithreading**: It is often used in applications that require concurrent I/O operations, such as web servers, GUI applications, and network applications where responsiveness is crucial.\n",
        "   - **Multiprocessing**: It is commonly used in applications that require heavy computation, such as data processing, scientific simulations, and tasks that can be parallelized.\n",
        "\n",
        "6. **Example**:\n",
        "   Here’s a simple example of both multithreading and multiprocessing in Python:\n",
        "\n",
        "   **Multithreading Example**:\n",
        "   ```python\n",
        "   import threading\n",
        "   import time\n",
        "\n",
        "   def print_numbers():\n",
        "       for i in range(5):\n",
        "           print(i)\n",
        "           time.sleep(1)\n",
        "\n",
        "   thread = threading.Thread(target=print_numbers)\n",
        "   thread.start()\n",
        "   thread.join()  # Wait for the thread to finish\n",
        "   ```\n",
        "\n",
        "   **Multiprocessing Example**:\n",
        "   ```python\n",
        "   from multiprocessing import Process\n",
        "   import time\n",
        "\n",
        "   def print_numbers():\n",
        "       for i in range(5):\n",
        "           print(i)\n",
        "           time.sleep(1)\n",
        "\n",
        "   process = Process(target=print_numbers)\n",
        "   process.start()\n",
        "   process.join()  # Wait for the process to finish\n",
        "   ```\n"
      ],
      "metadata": {
        "id": "ezPGmVAHnZ-o"
      }
    },
    {
      "cell_type": "markdown",
      "source": [
        "Q10.  What are the advantages of using logging in a program?\n",
        "\n",
        "-> Using logging in a program offers several advantages that enhance the development, debugging, and maintenance processes. Here are some key benefits of implementing logging:\n",
        "\n",
        "1. **Debugging and Troubleshooting**:\n",
        "   - Logging provides a way to track the flow of execution and capture the state of the application at various points. This information is invaluable for diagnosing issues and understanding the behavior of the program when errors occur.\n",
        "\n",
        "2. **Error Tracking**:\n",
        "   - By logging exceptions and errors, developers can capture detailed information about what went wrong, including stack traces and error messages. This helps in identifying the root cause of issues and facilitates quicker resolution.\n",
        "\n",
        "3. **Monitoring and Auditing**:\n",
        "   - Logging allows for monitoring the application's performance and behavior over time. It can be used to track user actions, system events, and application metrics, which is useful for auditing and compliance purposes.\n",
        "\n",
        "4. **Performance Analysis**:\n",
        "   - By logging performance-related metrics (e.g., execution time of functions, resource usage), developers can analyze the performance of the application and identify bottlenecks or areas for optimization.\n",
        "\n",
        "5. **Flexibility and Configurability**:\n",
        "   - The logging module in Python (and similar logging frameworks in other languages) provides a flexible and configurable way to manage log output. Developers can control the log level, format, and destination (e.g., console, files, remote servers) without changing the application code.\n",
        "\n",
        "6. **Separation of Concerns**:\n",
        "   - Logging separates the concerns of application logic and error handling from the logging mechanism. This leads to cleaner code and allows developers to focus on the core functionality of the application while still capturing important information.\n",
        "\n",
        "7. **Persistent Records**:\n",
        "   - Logs provide a persistent record of application behavior, which can be useful for post-mortem analysis after a failure or for understanding historical trends in application usage and performance.\n",
        "\n",
        "8. **Real-time Monitoring**:\n",
        "   - Logs can be integrated with monitoring tools and dashboards to provide real-time insights into application health and performance. This allows for proactive identification of issues before they impact users.\n",
        "\n",
        "9. **Support for Multiple Environments**:\n",
        "   - Logging can be configured differently for various environments (e.g., development, testing, production). This allows developers to capture detailed logs during development while minimizing log verbosity in production.\n",
        "\n",
        "10. **Facilitates Collaboration**:\n",
        "    - Well-structured logs can help teams collaborate more effectively by providing a common understanding of application behavior and issues. This is especially important in larger teams or when working with external stakeholders.\n",
        "\n",
        "### Example of Logging in Python\n",
        "\n",
        "Here’s a simple example of how to use the logging module in Python:\n",
        "\n",
        "```python\n",
        "import logging\n",
        "\n",
        "# Configure logging\n",
        "logging.basicConfig(level=logging.DEBUG, format='%(asctime)s - %(levelname)s - %(message)s')\n",
        "\n",
        "def divide_numbers(a, b):\n",
        "    try:\n",
        "        result = a / b\n",
        "        logging.info(f\"Division successful: {a} / {b} = {result}\")\n",
        "        return result\n",
        "    except ZeroDivisionError as e:\n",
        "        logging.error(f\"Error occurred: {e}\")\n",
        "        return None\n",
        "\n",
        "# Example usage\n",
        "divide_numbers(10, 2)\n",
        "divide_numbers(10, 0)\n",
        "```\n",
        "\n",
        "In this example, logging is used to capture both successful operations and errors, providing a clear record of the program's behavior.\n"
      ],
      "metadata": {
        "id": "M9ACmLC2nxJh"
      }
    },
    {
      "cell_type": "markdown",
      "source": [
        "Q11. What is memory management in Python?\n",
        "-> Memory management in Python refers to the process of allocating, using, and freeing memory resources in a Python program. Python has a built-in memory management system that handles memory allocation and deallocation automatically, allowing developers to focus on writing code without worrying about low-level memory management details. Here are the key aspects of memory management in Python:\n",
        "\n",
        "1. **Automatic Memory Management**:\n",
        "   - Python uses automatic memory management, which means that the programmer does not need to manually allocate and deallocate memory. This is primarily achieved through a combination of reference counting and garbage collection.\n",
        "\n",
        "2. **Reference Counting**:\n",
        "   - Each object in Python maintains a reference count, which tracks the number of references pointing to that object. When an object's reference count drops to zero (i.e., there are no more references to the object), the memory occupied by that object can be reclaimed. This is the primary mechanism for memory management in Python.\n",
        "\n",
        "3. **Garbage Collection**:\n",
        "   - In addition to reference counting, Python employs a garbage collector to handle cyclic references (i.e., when two or more objects reference each other). The garbage collector periodically scans for objects that are no longer reachable and frees their memory. This helps prevent memory leaks that can occur due to circular references.\n",
        "\n",
        "4. **Memory Pools**:\n",
        "   - Python uses a memory pool system to manage small objects efficiently. The memory manager allocates memory in blocks, which reduces fragmentation and improves performance when creating and destroying many small objects.\n",
        "\n",
        "5. **Memory Allocation**:\n",
        "   - Python provides built-in data types (e.g., lists, dictionaries, sets) that are dynamically sized and can grow or shrink as needed. When you create a new object, Python allocates memory for it, and when the object is no longer needed, the memory is automatically reclaimed.\n",
        "\n",
        "6. **Memory Management Functions**:\n",
        "   - Python provides several functions and modules for monitoring and managing memory usage. For example, the `sys` module includes functions like `sys.getsizeof()` to get the size of an object in bytes.\n",
        "\n",
        "7. **Memory Leaks**:\n",
        "   - Although Python's memory management system is robust, memory leaks can still occur, especially in cases of circular references or when objects are unintentionally retained in memory (e.g., through global variables or long-lived data structures). Developers should be mindful of their code to avoid such issues.\n",
        "\n",
        "8. **Custom Memory Management**:\n",
        "   - In some cases, developers may need to implement custom memory management strategies, especially when working with large datasets or performance-critical applications. This can involve using libraries like NumPy, which provide more control over memory allocation and data structures.\n",
        "\n",
        "### Example of Memory Management\n",
        "\n",
        "Here’s a simple example demonstrating how Python manages memory:\n",
        "\n",
        "```python\n",
        "import sys\n",
        "\n",
        "# Create a list\n",
        "my_list = [1, 2, 3, 4, 5]\n",
        "print(f\"Size of my_list: {sys.getsizeof(my_list)} bytes\")\n",
        "\n",
        "# Create a reference to the list\n",
        "another_list = my_list\n",
        "print(f\"Reference count of my_list: {sys.getrefcount(my_list)}\")\n",
        "\n",
        "# Remove the reference\n",
        "del another_list\n",
        "print(f\"Reference count of my_list after deletion: {sys.getrefcount(my_list)}\")\n",
        "\n",
        "# Remove the original reference\n",
        "del my_list\n",
        "# At this point, the memory for the list can be reclaimed\n",
        "```\n",
        "\n",
        "In this example, we create a list and check its size and reference count. When we delete the reference to the list, the reference count decreases, and when the last reference is deleted, the memory can be reclaimed.\n"
      ],
      "metadata": {
        "id": "QuVajhFWooi4"
      }
    },
    {
      "cell_type": "markdown",
      "source": [
        "Q12.  What are the basic steps involved in exception handling in Python?\n",
        "-> Exception handling in Python is a mechanism that allows you to manage errors and exceptional conditions that may occur during the execution of a program. The basic steps involved in exception handling are as follows:\n",
        "\n",
        "1. **Identify the Code That May Raise Exceptions**:\n",
        "   - Determine which parts of your code might raise exceptions. This could include operations like file I/O, network requests, type conversions, or any other operation that could fail.\n",
        "\n",
        "2. **Use a Try Block**:\n",
        "   - Wrap the code that may raise an exception in a `try` block. This block is where you attempt to execute the code that might cause an error.\n",
        "\n",
        "   ```python\n",
        "   try:\n",
        "       # Code that may raise an exception\n",
        "       result = 10 / 0  # This will raise a ZeroDivisionError\n",
        "   ```\n",
        "\n",
        "3. **Catch Exceptions with Except Blocks**:\n",
        "   - Use one or more `except` blocks to catch and handle specific exceptions that may arise from the code in the `try` block. You can specify the type of exception you want to catch.\n",
        "\n",
        "   ```python\n",
        "   try:\n",
        "       result = 10 / 0\n",
        "   except ZeroDivisionError:\n",
        "       print(\"Cannot divide by zero.\")\n",
        "   ```\n",
        "\n",
        "4. **Handle Multiple Exceptions**:\n",
        "   - If you want to handle multiple exceptions, you can use multiple `except` blocks or catch multiple exceptions in a single `except` block using a tuple.\n",
        "\n",
        "   ```python\n",
        "   try:\n",
        "       result = int(\"abc\")  # This will raise a ValueError\n",
        "   except (ZeroDivisionError, ValueError) as e:\n",
        "       print(f\"An error occurred: {e}\")\n",
        "   ```\n",
        "\n",
        "5. **Use an Optional Else Block**:\n",
        "   - You can include an optional `else` block that will execute if the code in the `try` block does not raise any exceptions. This is useful for code that should only run if no errors occurred.\n",
        "\n",
        "   ```python\n",
        "   try:\n",
        "       result = 10 / 2\n",
        "   except ZeroDivisionError:\n",
        "       print(\"Cannot divide by zero.\")\n",
        "   else:\n",
        "       print(f\"Result is: {result}\")\n",
        "   ```\n",
        "\n",
        "6. **Use a Finally Block**:\n",
        "   - You can include a `finally` block that will execute regardless of whether an exception was raised or not. This is useful for cleanup actions, such as closing files or releasing resources.\n",
        "\n",
        "   ```python\n",
        "   try:\n",
        "       file = open('example.txt', 'r')\n",
        "       content = file.read()\n",
        "   except FileNotFoundError:\n",
        "       print(\"File not found.\")\n",
        "   finally:\n",
        "       file.close()  # This will always execute\n",
        "   ```\n",
        "\n",
        "7. **Raise Exceptions**:\n",
        "   - You can also raise exceptions intentionally using the `raise` statement. This is useful for signaling errors in your code.\n",
        "\n",
        "   ```python\n",
        "   def divide(a, b):\n",
        "       if b == 0:\n",
        "           raise ValueError(\"Cannot divide by zero.\")\n",
        "       return a / b\n",
        "\n",
        "   try:\n",
        "       result = divide(10, 0)\n",
        "   except ValueError as e:\n",
        "       print(e)\n",
        "   ```\n",
        "\n",
        "### Example of Exception Handling\n",
        "\n",
        "Here’s a complete example demonstrating the basic steps of exception handling:\n",
        "\n",
        "```python\n",
        "def read_file(file_path):\n",
        "    try:\n",
        "        with open(file_path, 'r') as file:\n",
        "            content = file.read()\n",
        "            print(content)\n",
        "    except FileNotFoundError:\n",
        "        print(\"Error: The file was not found.\")\n",
        "    except IOError:\n",
        "        print(\"Error: An I/O error occurred.\")\n",
        "    else:\n",
        "        print(\"File read successfully.\")\n",
        "    finally:\n",
        "        print(\"Execution completed.\")\n",
        "\n",
        "# Example usage\n",
        "read_file('example.txt')\n",
        "```\n",
        "\n",
        "In this example, the function `read_file` attempts to open and read a file. It handles specific exceptions (like `FileNotFoundError` and `IOError`), includes an `else` block for successful execution, and a `finally` block that runs regardless of the outcome.\n"
      ],
      "metadata": {
        "id": "hmesmiozpHvz"
      }
    },
    {
      "cell_type": "markdown",
      "source": [
        "Q13.  Why is memory management important in Python?\n",
        "\n",
        "-> Memory management is a critical aspect of programming in Python (and in any programming language) for several reasons. Here are the key reasons why memory management is important in Python:\n",
        "\n",
        "1. **Efficient Resource Utilization**:\n",
        "   - Proper memory management ensures that the program uses memory resources efficiently. This is crucial for performance, especially in applications that handle large datasets or require significant computational resources.\n",
        "\n",
        "2. **Preventing Memory Leaks**:\n",
        "   - Memory leaks occur when a program allocates memory but fails to release it when it is no longer needed. This can lead to increased memory usage over time, potentially causing the program to slow down or crash. Effective memory management helps prevent memory leaks by ensuring that memory is properly allocated and deallocated.\n",
        "\n",
        "3. **Improving Performance**:\n",
        "   - Efficient memory management can lead to improved application performance. By minimizing memory fragmentation and optimizing memory allocation, programs can run faster and more smoothly. This is particularly important for performance-critical applications, such as data processing or real-time systems.\n",
        "\n",
        "4. **Stability and Reliability**:\n",
        "   - Proper memory management contributes to the stability and reliability of applications. When memory is managed correctly, the likelihood of encountering runtime errors, crashes, or unexpected behavior decreases. This is especially important in production environments where reliability is paramount.\n",
        "\n",
        "5. **Handling Large Data Structures**:\n",
        "   - Many applications work with large data structures (e.g., lists, dictionaries, or custom objects). Effective memory management allows developers to handle these structures without running into memory-related issues, such as exceeding available memory or causing excessive swapping.\n",
        "\n",
        "6. **Facilitating Scalability**:\n",
        "   - Applications that are designed to scale (e.g., web applications, data processing pipelines) must manage memory effectively to accommodate increasing loads. Good memory management practices enable applications to scale efficiently without running into memory bottlenecks.\n",
        "\n",
        "7. **Garbage Collection**:\n",
        "   - Python employs automatic garbage collection to reclaim memory that is no longer in use. Understanding how garbage collection works helps developers write code that minimizes unnecessary memory usage and avoids common pitfalls, such as circular references.\n",
        "\n",
        "8. **Debugging and Profiling**:\n",
        "   - Memory management is essential for debugging and profiling applications. Tools that analyze memory usage can help identify memory leaks, excessive memory consumption, and other issues. This information is valuable for optimizing code and improving overall application performance.\n",
        "\n",
        "9. **Cross-Platform Compatibility**:\n",
        "   - Python is designed to be cross-platform, meaning that applications can run on different operating systems. Effective memory management ensures that applications behave consistently across platforms, regardless of the underlying memory architecture.\n",
        "\n",
        "10. **User  Experience**:\n",
        "    - Poor memory management can lead to slow application performance, crashes, or unresponsiveness, negatively impacting the user experience. By managing memory effectively, developers can create applications that are responsive and reliable, leading to higher user satisfaction.\n"
      ],
      "metadata": {
        "id": "cFIycpqGpm8w"
      }
    },
    {
      "cell_type": "markdown",
      "source": [
        "Q14. What is the role of try and except in exception handling?\n",
        "\n",
        "-> In Python, the `try` and `except` blocks play a crucial role in exception handling by allowing developers to manage errors and exceptional conditions that may arise during the execution of a program. Here’s a detailed explanation of their roles:\n",
        "\n",
        "### 1. **Try Block**:\n",
        "- **Purpose**: The `try` block is used to wrap the code that may potentially raise an exception. It allows you to define a section of code where you anticipate that an error might occur.\n",
        "- **Execution**: When the code within the `try` block is executed, Python monitors it for any exceptions. If an exception occurs, the normal flow of execution is interrupted, and control is transferred to the corresponding `except` block.\n",
        "- **Example**:\n",
        "  ```python\n",
        "  try:\n",
        "      result = 10 / 0  # This will raise a ZeroDivisionError\n",
        "  ```\n",
        "\n",
        "### 2. **Except Block**:\n",
        "- **Purpose**: The `except` block is used to define how to handle specific exceptions that may arise from the code in the `try` block. It allows you to specify one or more types of exceptions to catch and handle them gracefully.\n",
        "- **Execution**: If an exception occurs in the `try` block, Python looks for a matching `except` block. If a match is found, the code within that `except` block is executed. If no matching `except` block is found, the program will terminate and display an error message.\n",
        "- **Example**:\n",
        "  ```python\n",
        "  try:\n",
        "      result = 10 / 0\n",
        "  except ZeroDivisionError:\n",
        "      print(\"Cannot divide by zero.\")\n",
        "  ```\n",
        "\n",
        "### Key Features of Try and Except\n",
        "\n",
        "1. **Error Handling**:\n",
        "   - The primary role of `try` and `except` is to handle errors gracefully, allowing the program to continue running or to provide meaningful feedback to the user instead of crashing.\n",
        "\n",
        "2. **Multiple Except Blocks**:\n",
        "   - You can have multiple `except` blocks to handle different types of exceptions separately. This allows for specific error handling based on the type of exception raised.\n",
        "   ```python\n",
        "   try:\n",
        "       value = int(input(\"Enter a number: \"))\n",
        "       result = 10 / value\n",
        "   except ValueError:\n",
        "       print(\"Invalid input. Please enter a valid number.\")\n",
        "   except ZeroDivisionError:\n",
        "       print(\"Cannot divide by zero.\")\n",
        "   ```\n",
        "\n",
        "3. **Catching Multiple Exceptions**:\n",
        "   - You can catch multiple exceptions in a single `except` block by specifying them as a tuple. This is useful when you want to handle different exceptions in the same way.\n",
        "   ```python\n",
        "   try:\n",
        "       value = int(input(\"Enter a number: \"))\n",
        "       result = 10 / value\n",
        "   except (ValueError, ZeroDivisionError) as e:\n",
        "       print(f\"An error occurred: {e}\")\n",
        "   ```\n",
        "\n",
        "4. **Else Block**:\n",
        "   - An optional `else` block can be added after the `except` blocks. The code in the `else` block will execute if the `try` block does not raise any exceptions.\n",
        "   ```python\n",
        "   try:\n",
        "       result = 10 / 2\n",
        "   except ZeroDivisionError:\n",
        "       print(\"Cannot divide by zero.\")\n",
        "   else:\n",
        "       print(f\"Result is: {result}\")\n",
        "   ```\n",
        "\n",
        "5. **Finally Block**:\n",
        "   - An optional `finally` block can be added to ensure that certain code runs regardless of whether an exception occurred or not. This is often used for cleanup actions, such as closing files or releasing resources.\n",
        "   ```python\n",
        "   try:\n",
        "       file = open('example.txt', 'r')\n",
        "       content = file.read()\n",
        "   except FileNotFoundError:\n",
        "       print(\"File not found.\")\n",
        "   finally:\n",
        "       file.close()  # This will always execute\n",
        "   ```\n",
        "\n"
      ],
      "metadata": {
        "id": "sHkwXbdFqkmo"
      }
    },
    {
      "cell_type": "markdown",
      "source": [
        "Q15. How does Python's garbage collection system work?\n",
        "\n",
        "-> Python's garbage collection system is responsible for automatically managing memory by reclaiming memory that is no longer in use, thus preventing memory leaks and optimizing resource utilization. The garbage collection system in Python primarily relies on two mechanisms: reference counting and cyclic garbage collection. Here’s how each of these mechanisms works:\n",
        "\n",
        "### 1. Reference Counting\n",
        "\n",
        "- **Basic Concept**: Every object in Python maintains a reference count, which is a count of the number of references pointing to that object. When an object is created, its reference count is initialized to one. Each time a new reference to the object is created, the reference count is incremented. Conversely, when a reference is deleted or goes out of scope, the reference count is decremented.\n",
        "\n",
        "- **Memory Reclamation**: When the reference count of an object drops to zero (meaning there are no more references to that object), Python's memory manager automatically deallocates the memory occupied by that object. This is the primary mechanism for memory management in Python.\n",
        "\n",
        "- **Example**:\n",
        "  ```python\n",
        "  import sys\n",
        "\n",
        "  a = []  # Create a new list object\n",
        "  print(sys.getrefcount(a))  # Reference count is 1\n",
        "\n",
        "  b = a  # Create a new reference to the same list\n",
        "  print(sys.getrefcount(a))  # Reference count is now 2\n",
        "\n",
        "  del b  # Remove the reference\n",
        "  print(sys.getrefcount(a))  # Reference count is back to 1\n",
        "\n",
        "  del a  # Remove the last reference\n",
        "  # At this point, the memory for the list can be reclaimed\n",
        "  ```\n",
        "\n",
        "### 2. Cyclic Garbage Collection\n",
        "\n",
        "- **Cyclic References**: Reference counting alone cannot handle cyclic references, where two or more objects reference each other, creating a cycle. In such cases, even if there are no external references to the objects, their reference counts will never reach zero, leading to memory leaks.\n",
        "\n",
        "- **Garbage Collector**: To address this issue, Python includes a cyclic garbage collector that periodically scans for groups of objects that are only reachable through each other (i.e., cyclic references). The garbage collector identifies these cycles and reclaims the memory occupied by the objects involved in the cycles.\n",
        "\n",
        "- **Generational Approach**: Python's garbage collector uses a generational approach, which categorizes objects into three generations based on their lifespan:\n",
        "  - **Generation 0**: Newly created objects. This generation is collected most frequently.\n",
        "  - **Generation 1**: Objects that survived one collection cycle.\n",
        "  - **Generation 2**: Long-lived objects that have survived multiple collection cycles.\n",
        "\n",
        "  The garbage collector runs more frequently on younger generations, as they are more likely to become unreachable quickly. Older generations are collected less frequently, as they are more likely to be in use.\n",
        "\n",
        "- **Example of Cyclic Garbage Collection**:\n",
        "  ```python\n",
        "  class Node:\n",
        "      def __init__(self):\n",
        "          self.ref = None\n",
        "\n",
        "  a = Node()\n",
        "  b = Node()\n",
        "  a.ref = b\n",
        "  b.ref = a  # Create a cycle\n",
        "\n",
        "  # At this point, both 'a' and 'b' reference each other, creating a cycle.\n",
        "  # If we delete both references, they can be collected by the garbage collector.\n",
        "  del a\n",
        "  del b\n",
        "  ```\n",
        "\n",
        "### 3. Manual Garbage Collection\n",
        "\n",
        "- **Control Over Garbage Collection**: Python provides the `gc` module, which allows developers to interact with the garbage collector. You can enable or disable the garbage collector, manually trigger garbage collection, and inspect objects that are tracked by the collector.\n",
        "\n",
        "- **Example**:\n",
        "  ```python\n",
        "  import gc\n",
        "\n",
        "  # Disable automatic garbage collection\n",
        "  gc.disable()\n",
        "\n",
        "  # Manually trigger garbage collection\n",
        "  gc.collect()\n",
        "\n",
        "  # Enable automatic garbage collection\n",
        "  gc.enable()\n",
        "  ```\n"
      ],
      "metadata": {
        "id": "yF55wrYrq4ta"
      }
    },
    {
      "cell_type": "markdown",
      "source": [
        "Q16.  What is the purpose of the else block in exception handling?\n",
        "-> In Python's exception handling mechanism, the `else` block serves a specific purpose that complements the `try` and `except` blocks. Here’s a detailed explanation of the purpose and usage of the `else` block in exception handling:\n",
        "\n",
        "### Purpose of the Else Block\n",
        "\n",
        "1. **Execute Code When No Exceptions Occur**:\n",
        "   - The primary purpose of the `else` block is to define a section of code that should run only if the code in the `try` block does not raise any exceptions. This allows you to separate the normal execution flow from the error handling flow.\n",
        "\n",
        "2. **Improved Readability**:\n",
        "   - By using an `else` block, you can make your code more readable and organized. It clearly indicates that the code within the `else` block is intended to run only when the `try` block is successful, enhancing the clarity of the program's logic.\n",
        "\n",
        "3. **Avoiding Unintended Exception Handling**:\n",
        "   - If you place code that should only run after a successful `try` block directly in the `try` block, it may inadvertently catch exceptions that are not related to the original operation. The `else` block helps avoid this issue by ensuring that only the code that is meant to run after a successful `try` execution is included.\n",
        "\n",
        "### Syntax\n",
        "\n",
        "The `else` block is placed after all `except` blocks and before any `finally` block (if present). Here’s the general syntax:\n",
        "\n",
        "```python\n",
        "try:\n",
        "    # Code that may raise an exception\n",
        "except SomeException:\n",
        "    # Code to handle the exception\n",
        "else:\n",
        "    # Code to execute if no exceptions occur\n",
        "finally:\n",
        "    # Code that will always execute\n",
        "```\n",
        "\n",
        "### Example of Using the Else Block\n",
        "\n",
        "Here’s a simple example demonstrating the use of the `else` block in exception handling:\n",
        "\n",
        "```python\n",
        "def divide_numbers(a, b):\n",
        "    try:\n",
        "        result = a / b  # This may raise a ZeroDivisionError\n",
        "    except ZeroDivisionError:\n",
        "        print(\"Error: Cannot divide by zero.\")\n",
        "    else:\n",
        "        print(f\"Result is: {result}\")  # This runs only if no exception occurs\n",
        "    finally:\n",
        "        print(\"Execution completed.\")\n",
        "\n",
        "# Example usage\n",
        "divide_numbers(10, 2)  # This will print the result\n",
        "divide_numbers(10, 0)  # This will handle the division by zero error\n",
        "```\n",
        "\n",
        "### Output\n",
        "\n",
        "When you run the above code, the output will be:\n",
        "\n",
        "```\n",
        "Result is: 5.0\n",
        "Execution completed.\n",
        "```\n",
        "\n",
        "```\n",
        "Error: Cannot divide by zero.\n",
        "Execution completed.\n",
        "```\n"
      ],
      "metadata": {
        "id": "YU2qplM1rR4c"
      }
    },
    {
      "cell_type": "markdown",
      "source": [
        "Q17.  What are the common logging levels in Python?\n",
        "-> In Python, the logging module provides a flexible framework for emitting log messages from Python programs. It defines several logging levels that indicate the severity or importance of the messages being logged. The common logging levels, in order of increasing severity, are as follows:\n",
        "\n",
        "1. **DEBUG**:\n",
        "   - **Level**: 10\n",
        "   - **Description**: This level is used for detailed diagnostic information useful for debugging. It is typically used to log information that is of interest only when diagnosing problems.\n",
        "   - **Example**:\n",
        "     ```python\n",
        "     logging.debug(\"This is a debug message.\")\n",
        "     ```\n",
        "\n",
        "2. **INFO**:\n",
        "   - **Level**: 20\n",
        "   - **Description**: This level is used for informational messages that highlight the progress of the application at a high level. It is generally used to log events that are part of the normal operation of the application.\n",
        "   - **Example**:\n",
        "     ```python\n",
        "     logging.info(\"This is an informational message.\")\n",
        "     ```\n",
        "\n",
        "3. **WARNING**:\n",
        "   - **Level**: 30\n",
        "   - **Description**: This level indicates a warning that something unexpected happened, or indicative of some problem in the near future (e.g., ‘disk space low’). The application is still functioning as expected.\n",
        "   - **Example**:\n",
        "     ```python\n",
        "     logging.warning(\"This is a warning message.\")\n",
        "     ```\n",
        "\n",
        "4. **ERROR**:\n",
        "   - **Level**: 40\n",
        "   - **Description**: This level is used to log error messages that indicate a more serious problem that prevented the program from performing a function. It signifies that an error has occurred, but the application can still continue running.\n",
        "   - **Example**:\n",
        "     ```python\n",
        "     logging.error(\"This is an error message.\")\n",
        "     ```\n",
        "\n",
        "5. **CRITICAL**:\n",
        "   - **Level**: 50\n",
        "   - **Description**: This level indicates a very serious error that may prevent the program from continuing to run. It signifies a critical failure that requires immediate attention.\n",
        "   - **Example**:\n",
        "     ```python\n",
        "     logging.critical(\"This is a critical message.\")\n",
        "     ```\n",
        "\n",
        "### Example of Using Logging Levels\n",
        "\n",
        "Here’s a simple example demonstrating how to use different logging levels in a Python program:\n",
        "\n",
        "```python\n",
        "import logging\n",
        "\n",
        "# Configure logging\n",
        "logging.basicConfig(level=logging.DEBUG, format='%(asctime)s - %(levelname)s - %(message)s')\n",
        "\n",
        "# Log messages at different levels\n",
        "logging.debug(\"This is a debug message.\")\n",
        "logging.info(\"This is an informational message.\")\n",
        "logging.warning(\"This is a warning message.\")\n",
        "logging.error(\"This is an error message.\")\n",
        "logging.critical(\"This is a critical message.\")\n",
        "```\n",
        "\n",
        "### Output\n",
        "\n",
        "When you run the above code, the output will include timestamps and the severity level of each log message:\n",
        "\n",
        "```\n",
        "2023-10-01 12:00:00,000 - DEBUG - This is a debug message.\n",
        "2023-10-01 12:00:00,001 - INFO - This is an informational message.\n",
        "2023-10-01 12:00:00,002 - WARNING - This is a warning message.\n",
        "2023-10-01 12:00:00,003 - ERROR - This is an error message.\n",
        "2023-10-01 12:00:00,004 - CRITICAL - This is a critical message.\n",
        "```"
      ],
      "metadata": {
        "id": "zSmXdIo0rxl7"
      }
    },
    {
      "cell_type": "markdown",
      "source": [
        "Q18. What is the difference between os.fork() and multiprocessing in Python?\n",
        "\n",
        "-> In Python, both `os.fork()` and the `multiprocessing` module are used to create new processes, but they have different characteristics, use cases, and levels of abstraction. Here’s a detailed comparison of the two:\n",
        "\n",
        "### 1. **os.fork()**\n",
        "\n",
        "- **Definition**: `os.fork()` is a low-level function provided by the `os` module that creates a new process by duplicating the calling process. The new process is called the child process, and it is an exact copy of the parent process at the time of the fork.\n",
        "\n",
        "- **Return Values**:\n",
        "  - In the parent process, `os.fork()` returns the process ID (PID) of the child process.\n",
        "  - In the child process, it returns `0`.\n",
        "  - If an error occurs, it raises an `OSError`.\n",
        "\n",
        "- **Use Case**: `os.fork()` is typically used in Unix-like operating systems for creating child processes. It is more suitable for low-level process management and is often used in scenarios where fine-grained control over process creation and management is required.\n",
        "\n",
        "- **Limitations**:\n",
        "  - `os.fork()` is not available on Windows, as it is specific to Unix-like systems.\n",
        "  - It creates a copy of the entire process memory space, which can be inefficient for large processes.\n",
        "  - It requires manual management of inter-process communication (IPC) and synchronization.\n",
        "\n",
        "- **Example**:\n",
        "  ```python\n",
        "  import os\n",
        "\n",
        "  pid = os.fork()\n",
        "  if pid > 0:\n",
        "      print(f\"Parent process: {os.getpid()}, Child process ID: {pid}\")\n",
        "  elif pid == 0:\n",
        "      print(f\"Child process: {os.getpid()}\")\n",
        "  else:\n",
        "      print(\"Fork failed.\")\n",
        "  ```\n",
        "\n",
        "### 2. **multiprocessing Module**\n",
        "\n",
        "- **Definition**: The `multiprocessing` module is a higher-level abstraction for creating and managing processes in Python. It provides a more user-friendly interface for spawning processes, managing their lifecycle, and facilitating communication between them.\n",
        "\n",
        "- **Features**:\n",
        "  - Supports both Windows and Unix-like operating systems.\n",
        "  - Provides a `Process` class to create and manage processes easily.\n",
        "  - Includes built-in support for inter-process communication (IPC) using pipes and queues.\n",
        "  - Offers synchronization primitives like locks, events, and semaphores.\n",
        "  - Allows sharing of data between processes using shared memory or server processes.\n",
        "\n",
        "- **Use Case**: The `multiprocessing` module is suitable for most applications that require concurrent execution of tasks. It abstracts away the complexities of process management and provides a more Pythonic way to work with multiple processes.\n",
        "\n",
        "- **Example**:\n",
        "  ```python\n",
        "  from multiprocessing import Process\n",
        "\n",
        "  def worker():\n",
        "      print(f\"Worker process: {os.getpid()}\")\n",
        "\n",
        "  if __name__ == \"__main__\":\n",
        "      processes = []\n",
        "      for _ in range(5):\n",
        "          p = Process(target=worker)\n",
        "          processes.append(p)\n",
        "          p.start()\n",
        "\n",
        "      for p in processes:\n",
        "          p.join()  # Wait for all processes to complete\n",
        "  ```\n",
        "\n",
        "### Key Differences\n",
        "\n",
        "| Feature                     | os.fork()                               | multiprocessing Module                  |\n",
        "|-----------------------------|-----------------------------------------|----------------------------------------|\n",
        "| **Level of Abstraction**    | Low-level, system call                  | High-level, user-friendly API          |\n",
        "| **Platform Compatibility**   | Unix-like systems only                  | Cross-platform (Windows and Unix)      |\n",
        "| **Process Creation**        | Duplicates the entire process           | Creates new processes with a specified target function |\n",
        "| **Inter-Process Communication** | Manual management required             | Built-in support (queues, pipes, etc.) |\n",
        "| **Synchronization**         | Manual management required               | Provides synchronization primitives      |\n",
        "| **Memory Management**       | Copies the entire memory space          | More efficient memory management        |\n",
        "\n"
      ],
      "metadata": {
        "id": "wBIBkY5AsRYK"
      }
    },
    {
      "cell_type": "markdown",
      "source": [
        "Q19.  What is the importance of closing a file in Python?\n",
        "\n",
        "-> Closing a file in Python is an important practice for several reasons. When you open a file for reading or writing, it consumes system resources, and failing to close it properly can lead to various issues. Here are the key reasons why closing a file is important:\n",
        "\n",
        "### 1. **Resource Management**\n",
        "- **System Resources**: Each open file consumes system resources, such as file descriptors. Operating systems have a limit on the number of files that can be opened simultaneously. If files are not closed, you may reach this limit, leading to errors when trying to open new files.\n",
        "- **Memory Usage**: Open files can also consume memory. Closing files when they are no longer needed helps free up these resources.\n",
        "\n",
        "### 2. **Data Integrity**\n",
        "- **Flushing Buffers**: When writing to a file, data is often buffered in memory before being written to disk. Closing a file ensures that all buffered data is flushed (written) to the file. If a file is not closed properly, some data may be lost or not written correctly.\n",
        "- **Consistency**: Closing a file ensures that the file is in a consistent state. This is particularly important when multiple processes or threads may be accessing the same file.\n",
        "\n",
        "### 3. **Avoiding Corruption**\n",
        "- **File Corruption**: If a file is left open while the program terminates unexpectedly (e.g., due to an error or crash), it can lead to file corruption. Closing the file properly helps mitigate this risk.\n",
        "\n",
        "### 4. **Preventing Data Loss**\n",
        "- **Data Loss**: If you are writing to a file and do not close it, you may lose the data that was intended to be saved. Closing the file ensures that all changes are committed and saved.\n",
        "\n",
        "### 5. **Best Practices**\n",
        "- **Code Clarity**: Explicitly closing files makes your code clearer and indicates to other developers (or your future self) that you are done working with the file.\n",
        "- **Error Handling**: Closing files in a controlled manner allows you to handle exceptions and errors more gracefully, ensuring that resources are released even when errors occur.\n",
        "\n",
        "### Using Context Managers\n",
        "\n",
        "In Python, the best practice for handling files is to use a context manager (the `with` statement). This automatically takes care of closing the file for you, even if an error occurs. Here’s an example:\n",
        "\n",
        "```python\n",
        "with open('example.txt', 'w') as file:\n",
        "    file.write(\"Hello, World!\")\n",
        "# The file is automatically closed when the block is exited.\n",
        "```\n",
        "\n"
      ],
      "metadata": {
        "id": "3hoViD5qsl6D"
      }
    },
    {
      "cell_type": "markdown",
      "source": [
        "Q20.  What is the difference between file.read() and file.readline() in Python?\n",
        "\n",
        "-> In Python, both `file.read()` and `file.readline()` are methods used to read data from a file, but they serve different purposes and behave differently. Here’s a detailed comparison of the two:\n",
        "\n",
        "### 1. **file.read()**\n",
        "\n",
        "- **Purpose**: The `file.read()` method reads the entire content of the file at once.\n",
        "- **Return Value**: It returns the entire content of the file as a single string. If the file is large, this can consume a significant amount of memory.\n",
        "- **Usage**: It is typically used when you want to read the whole file content into memory for processing.\n",
        "- **Example**:\n",
        "  ```python\n",
        "  with open('example.txt', 'r') as file:\n",
        "      content = file.read()\n",
        "      print(content)  # Prints the entire content of the file\n",
        "  ```\n",
        "\n",
        "### 2. **file.readline()**\n",
        "\n",
        "- **Purpose**: The `file.readline()` method reads a single line from the file at a time.\n",
        "- **Return Value**: It returns the next line from the file as a string, including the newline character (`\\n`) at the end of the line. If the end of the file is reached, it returns an empty string.\n",
        "- **Usage**: It is useful when you want to process the file line by line, which is more memory-efficient for large files.\n",
        "- **Example**:\n",
        "  ```python\n",
        "  with open('example.txt', 'r') as file:\n",
        "      line = file.readline()\n",
        "      while line:\n",
        "          print(line.strip())  # Prints each line without the newline character\n",
        "          line = file.readline()  # Reads the next line\n",
        "  ```\n",
        "\n",
        "### Key Differences\n",
        "\n",
        "| Feature                | file.read()                          | file.readline()                       |\n",
        "|------------------------|--------------------------------------|---------------------------------------|\n",
        "| **Reads**              | Entire file content                  | One line at a time                    |\n",
        "| **Return Value**       | Single string containing all content | Single string containing the next line |\n",
        "| **Memory Usage**       | Can consume a lot of memory for large files | More memory-efficient for large files  |\n",
        "| **End of File**       | Returns the entire content           | Returns an empty string at EOF        |\n",
        "| **Use Case**           | When you need the whole file content | When processing files line by line    |\n",
        "\n"
      ],
      "metadata": {
        "id": "mEGGMueGs4K0"
      }
    },
    {
      "cell_type": "markdown",
      "source": [
        "Q21.  What is the logging module in Python used for?\n",
        "\n",
        "-> The logging module in Python is a powerful and flexible framework for emitting log messages from Python programs. It is part of the standard library and provides a way to track events that happen during the execution of a program, which can be invaluable for debugging, monitoring, and maintaining applications. Here are the key features and uses of the logging module:\n",
        "\n",
        "### Key Features of the Logging Module\n",
        "\n",
        "1. **Log Levels**:\n",
        "   - The logging module defines several log levels that indicate the severity of the messages being logged. The common log levels are:\n",
        "     - **DEBUG**: Detailed information, typically of interest only when diagnosing problems.\n",
        "     - **INFO**: Confirmation that things are working as expected.\n",
        "     - **WARNING**: An indication that something unexpected happened, or indicative of some problem in the near future (e.g., ‘disk space low’).\n",
        "     - **ERROR**: A more serious problem that prevented the program from performing a function.\n",
        "     - **CRITICAL**: A very serious error that may prevent the program from continuing to run.\n",
        "\n",
        "2. **Configurable Output**:\n",
        "   - The logging module allows you to configure where log messages go. You can log to the console, files, remote servers, or other destinations. You can also format the log messages to include timestamps, log levels, and other contextual information.\n",
        "\n",
        "3. **Hierarchical Logging**:\n",
        "   - The logging module supports a hierarchy of loggers, which allows you to create loggers for different parts of your application. This enables fine-grained control over logging behavior and output.\n",
        "\n",
        "4. **Filters**:\n",
        "   - You can use filters to control which log messages are emitted based on specific criteria, allowing for more granular control over logging output.\n",
        "\n",
        "5. **Exception Logging**:\n",
        "   - The logging module provides built-in support for logging exceptions, making it easy to capture stack traces and error messages.\n",
        "\n",
        "6. **Thread-Safe**:\n",
        "   - The logging module is designed to be thread-safe, allowing you to log messages from multiple threads without running into issues.\n",
        "\n",
        "### Common Use Cases\n",
        "\n",
        "1. **Debugging**:\n",
        "   - Logging is an essential tool for debugging applications. By logging messages at various points in your code, you can trace the flow of execution and identify where things may be going wrong.\n",
        "\n",
        "2. **Monitoring**:\n",
        "   - In production environments, logging can be used to monitor the health and performance of applications. You can log important events, errors, and performance metrics to help identify issues before they become critical.\n",
        "\n",
        "3. **Auditing**:\n",
        "   - Logging can be used to create an audit trail of actions taken by users or the system, which can be important for security and compliance purposes.\n",
        "\n",
        "4. **Error Reporting**:\n",
        "   - Instead of using print statements for error reporting, logging provides a more structured way to capture and report errors, including stack traces and contextual information.\n",
        "\n",
        "### Example of Using the Logging Module\n",
        "\n",
        "Here’s a simple example demonstrating how to use the logging module in Python:\n",
        "\n",
        "```python\n",
        "import logging\n",
        "\n",
        "# Configure logging\n",
        "logging.basicConfig(level=logging.DEBUG, format='%(asctime)s - %(levelname)s - %(message)s')\n",
        "\n",
        "# Log messages at different levels\n",
        "logging.debug(\"This is a debug message.\")\n",
        "logging.info(\"This is an informational message.\")\n",
        "logging.warning(\"This is a warning message.\")\n",
        "logging.error(\"This is an error message.\")\n",
        "logging.critical(\"This is a critical message.\")\n",
        "```\n",
        "\n",
        "### Output\n",
        "\n",
        "When you run the above code, the output will include timestamps and the severity level of each log message:\n",
        "\n",
        "```\n",
        "2023-10-01 12:00:00,000 - DEBUG - This is a debug message.\n",
        "2023-10-01 12:00:00,001 - INFO - This is an informational message.\n",
        "2023-10-01 12:00:00,002 - WARNING - This is a warning message.\n",
        "2023-10-01 12:00:00,003 - ERROR - This is an error message.\n",
        "2023-10-01 12:00:00,004 - CRITICAL - This is a critical message.\n",
        "```"
      ],
      "metadata": {
        "id": "2bHY7Xd1uYxn"
      }
    },
    {
      "cell_type": "markdown",
      "source": [
        "Q22.  What is the os module in Python used for in file handling?\n",
        "\n",
        "-> The `os` module in Python is a standard library module that provides a way to interact with the operating system. It includes a variety of functions for file handling, allowing you to perform operations on files and directories. Here are some of the key functionalities of the `os` module related to file handling:\n",
        "\n",
        "### Key Features of the os Module for File Handling\n",
        "\n",
        "1. **File and Directory Manipulation**:\n",
        "   - **Creating Directories**: You can create new directories using `os.mkdir()` and `os.makedirs()`.\n",
        "   - **Removing Directories**: You can remove directories using `os.rmdir()` for empty directories and `os.removedirs()` for nested directories.\n",
        "   - **Removing Files**: You can delete files using `os.remove()`.\n",
        "\n",
        "2. **Path Manipulation**:\n",
        "   - **Joining Paths**: The `os.path.join()` function allows you to construct file paths in a platform-independent way.\n",
        "   - **Getting Absolute Paths**: You can get the absolute path of a file using `os.path.abspath()`.\n",
        "   - **Checking Existence**: You can check if a file or directory exists using `os.path.exists()`.\n",
        "\n",
        "3. **File Properties**:\n",
        "   - **Getting File Information**: You can retrieve information about files, such as size and modification time, using `os.path.getsize()` and `os.path.getmtime()`.\n",
        "   - **Checking File Type**: You can check if a path is a file or a directory using `os.path.isfile()` and `os.path.isdir()`.\n",
        "\n",
        "4. **Changing Directories**:\n",
        "   - You can change the current working directory using `os.chdir()`, and you can retrieve the current working directory using `os.getcwd()`.\n",
        "\n",
        "5. **Listing Directory Contents**:\n",
        "   - You can list the contents of a directory using `os.listdir()`, which returns a list of the names of the entries in the directory.\n",
        "\n",
        "6. **Environment Variables**:\n",
        "   - The `os` module allows you to access and modify environment variables using `os.environ`.\n",
        "\n",
        "### Example of Using the os Module for File Handling\n",
        "\n",
        "Here’s a simple example demonstrating some of the functionalities of the `os` module for file handling:\n",
        "\n",
        "```python\n",
        "import os\n",
        "\n",
        "# Create a new directory\n",
        "os.mkdir('example_dir')\n",
        "\n",
        "# Change the current working directory\n",
        "os.chdir('example_dir')\n",
        "\n",
        "# Create a new file\n",
        "with open('example_file.txt', 'w') as file:\n",
        "    file.write(\"Hello, World!\")\n",
        "\n",
        "# List the contents of the current directory\n",
        "print(\"Contents of the directory:\", os.listdir('.'))\n",
        "\n",
        "# Get the absolute path of the file\n",
        "absolute_path = os.path.abspath('example_file.txt')\n",
        "print(\"Absolute path of the file:\", absolute_path)\n",
        "\n",
        "# Get the size of the file\n",
        "file_size = os.path.getsize('example_file.txt')\n",
        "print(\"Size of the file:\", file_size, \"bytes\")\n",
        "\n",
        "# Change back to the original directory\n",
        "os.chdir('..')\n",
        "\n",
        "# Remove the file and directory\n",
        "os.remove('example_dir/example_file.txt')\n",
        "os.rmdir('example_dir')\n",
        "```\n"
      ],
      "metadata": {
        "id": "0mGPqly3vCYv"
      }
    },
    {
      "cell_type": "markdown",
      "source": [
        "Q23. What are the challenges associated with memory management in Python?\n",
        "\n",
        "-> Memory management in Python is an essential aspect of programming, as it directly affects the performance and efficiency of applications. While Python provides automatic memory management through its built-in garbage collector, there are several challenges associated with memory management that developers should be aware of. Here are some of the key challenges:\n",
        "\n",
        "### 1. **Garbage Collection Overhead**\n",
        "- **Automatic Garbage Collection**: Python uses a garbage collector to automatically manage memory, which can introduce overhead. The garbage collector periodically scans for and frees memory that is no longer in use, which can lead to performance issues, especially in memory-intensive applications.\n",
        "- **Non-deterministic Behavior**: The timing of garbage collection is non-deterministic, meaning that developers cannot predict when memory will be freed. This can lead to increased memory usage if objects are not collected promptly.\n",
        "\n",
        "### 2. **Memory Leaks**\n",
        "- **Reference Cycles**: Python's garbage collector can struggle with reference cycles, where two or more objects reference each other, preventing them from being collected. This can lead to memory leaks if the cycle is not broken.\n",
        "- **Unreleased Resources**: If objects that manage external resources (like file handles or network connections) are not properly released, it can lead to memory leaks and resource exhaustion.\n",
        "\n",
        "### 3. **Fragmentation**\n",
        "- **Memory Fragmentation**: Over time, as objects are allocated and deallocated, memory can become fragmented. This can lead to inefficient use of memory and increased allocation times, as the memory allocator may struggle to find contiguous blocks of memory for new objects.\n",
        "\n",
        "### 4. **Large Object Management**\n",
        "- **Handling Large Objects**: Python's memory management can be less efficient for large objects (e.g., large lists or NumPy arrays). Allocating and deallocating large objects can lead to fragmentation and increased overhead.\n",
        "- **Memory Limits**: Depending on the platform and Python implementation, there may be limits on the size of objects that can be allocated, which can be a challenge for applications that require large data structures.\n",
        "\n",
        "### 5. **Performance Implications**\n",
        "- **Overhead of Object Creation**: Creating and destroying many small objects can lead to performance issues due to the overhead of memory management. This is particularly relevant in performance-critical applications.\n",
        "- **Impact on Multithreading**: In a multithreaded environment, the Global Interpreter Lock (GIL) can affect memory management performance, as it prevents multiple threads from executing Python bytecode simultaneously. This can lead to contention and delays in memory allocation.\n",
        "\n",
        "### 6. **Limited Control**\n",
        "- **Lack of Manual Memory Management**: While automatic memory management simplifies development, it also means that developers have limited control over memory allocation and deallocation. This can be a disadvantage in scenarios where fine-tuned memory management is required.\n",
        "\n",
        "### 7. **Debugging Memory Issues**\n",
        "- **Difficulty in Identifying Memory Issues**: Debugging memory-related issues, such as leaks or fragmentation, can be challenging. Tools like memory profilers and debuggers can help, but they may require additional effort to integrate and use effectively.\n"
      ],
      "metadata": {
        "id": "YYipB7RJveE9"
      }
    },
    {
      "cell_type": "markdown",
      "source": [
        "Q24.  How do you raise an exception manually in Python?\n",
        "\n",
        "-> In Python, you can raise an exception manually using the `raise` statement. This allows you to trigger an exception intentionally, which can be useful for error handling, validation, or signaling that something unexpected has occurred in your code. Here’s how to do it:\n",
        "\n",
        "### Syntax\n",
        "\n",
        "The basic syntax for raising an exception is:\n",
        "\n",
        "```python\n",
        "raise ExceptionType(\"Error message\")\n",
        "```\n",
        "\n",
        "- **ExceptionType**: This is the type of exception you want to raise (e.g., `ValueError`, `TypeError`, `KeyError`, etc.).\n",
        "- **Error message**: This is an optional string that provides additional information about the exception.\n",
        "\n",
        "### Example of Raising an Exception\n",
        "\n",
        "Here’s a simple example demonstrating how to raise an exception manually:\n",
        "\n",
        "```python\n",
        "def divide(a, b):\n",
        "    if b == 0:\n",
        "        raise ValueError(\"Cannot divide by zero.\")\n",
        "    return a / b\n",
        "\n",
        "try:\n",
        "    result = divide(10, 0)\n",
        "except ValueError as e:\n",
        "    print(f\"An error occurred: {e}\")\n",
        "```\n",
        "\n",
        "### Explanation\n",
        "\n",
        "1. **Function Definition**: The `divide` function takes two parameters, `a` and `b`.\n",
        "2. **Condition Check**: Inside the function, it checks if `b` is zero. If it is, it raises a `ValueError` with a descriptive message.\n",
        "3. **Exception Handling**: The `try` block calls the `divide` function. If a `ValueError` is raised, the `except` block catches the exception and prints the error message.\n",
        "\n",
        "### Raising Custom Exceptions\n",
        "\n",
        "You can also define your own custom exception classes by subclassing the built-in `Exception` class. Here’s an example:\n",
        "\n",
        "```python\n",
        "class CustomError(Exception):\n",
        "    pass\n",
        "\n",
        "def check_value(x):\n",
        "    if x < 0:\n",
        "        raise CustomError(\"Negative value is not allowed.\")\n",
        "\n",
        "try:\n",
        "    check_value(-1)\n",
        "except CustomError as e:\n",
        "    print(f\"Caught a custom exception: {e}\")\n",
        "```\n",
        "\n",
        "### Explanation\n",
        "\n",
        "1. **Custom Exception Class**: A new exception class `CustomError` is defined by subclassing `Exception`.\n",
        "2. **Function Definition**: The `check_value` function checks if the input value `x` is negative. If it is, it raises the custom exception.\n",
        "3. **Exception Handling**: The `try` block calls the `check_value` function, and the `except` block catches the custom exception.\n",
        "\n"
      ],
      "metadata": {
        "id": "O8mB4-dMv_tt"
      }
    },
    {
      "cell_type": "markdown",
      "source": [
        "Q25. Why is it important to use multithreading in certain applications?\n",
        "\n",
        "-> Multithreading is an important programming technique that allows multiple threads to run concurrently within a single process. This can significantly enhance the performance and responsiveness of certain applications. Here are several reasons why multithreading is important in specific scenarios:\n",
        "\n",
        "### 1. **Improved Responsiveness**\n",
        "- **User  Interfaces**: In applications with graphical user interfaces (GUIs), multithreading allows the UI to remain responsive while performing long-running tasks in the background. For example, a file download can occur in a separate thread, allowing the user to continue interacting with the application without freezing.\n",
        "\n",
        "### 2. **Concurrent Execution**\n",
        "- **Parallelism**: Multithreading enables concurrent execution of tasks, which can lead to better utilization of CPU resources. This is particularly beneficial for CPU-bound tasks that can be divided into smaller, independent subtasks that can run simultaneously on multiple CPU cores.\n",
        "\n",
        "### 3. **I/O-Bound Operations**\n",
        "- **Handling I/O Operations**: Many applications spend a significant amount of time waiting for I/O operations (e.g., reading from disk, network requests). Multithreading allows other threads to continue executing while one thread is blocked on an I/O operation, improving overall application throughput.\n",
        "\n",
        "### 4. **Resource Sharing**\n",
        "- **Shared Memory**: Threads within the same process share the same memory space, which allows for efficient communication and data sharing between threads. This can reduce the overhead associated with inter-process communication (IPC) and make it easier to share data.\n",
        "\n",
        "### 5. **Simplified Program Structure**\n",
        "- **Task Decomposition**: Multithreading can simplify the structure of programs by allowing developers to break down complex tasks into smaller, manageable threads. This can lead to cleaner and more maintainable code.\n",
        "\n",
        "### 6. **Real-Time Processing**\n",
        "- **Time-Sensitive Applications**: In applications that require real-time processing (e.g., video streaming, gaming, or robotics), multithreading can help ensure that time-sensitive tasks are executed promptly without delays caused by other operations.\n",
        "\n",
        "### 7. **Scalability**\n",
        "- **Handling Increased Load**: Multithreading can help applications scale better under increased load. For example, a web server can handle multiple client requests simultaneously by spawning a new thread for each request, improving the server's ability to serve many users at once.\n",
        "\n",
        "### 8. **Background Processing**\n",
        "- **Asynchronous Tasks**: Multithreading allows for background processing of tasks such as data processing, logging, or monitoring, which can run without interrupting the main application flow.\n",
        "\n",
        "### 9. **Enhanced Performance in Certain Algorithms**\n",
        "- **Parallel Algorithms**: Some algorithms, particularly those in scientific computing, data analysis, and machine learning, can benefit from multithreading by dividing the workload across multiple threads, leading to faster execution times.\n"
      ],
      "metadata": {
        "id": "PA5qt47-wjOG"
      }
    },
    {
      "cell_type": "markdown",
      "source": [
        "# Practical Questions"
      ],
      "metadata": {
        "id": "bRg6Pp4_xlWc"
      }
    },
    {
      "cell_type": "markdown",
      "source": [
        "Q1.  How can you open a file for writing in Python and write a string to it?"
      ],
      "metadata": {
        "id": "tp2HB5QMxtyn"
      }
    },
    {
      "cell_type": "code",
      "source": [
        "# Open the file in write mode\n",
        "file = open(\"example.txt\", \"w\")\n",
        "\n",
        "# Write a string to the file\n",
        "file.write(\"Hello, world!\")\n",
        "\n",
        "# Always close the file when done\n",
        "file.close()\n"
      ],
      "metadata": {
        "id": "hD7vPFFcw6Lw"
      },
      "execution_count": 1,
      "outputs": []
    },
    {
      "cell_type": "markdown",
      "source": [
        "Q2. Write a Python program to read the contents of a file and print each line"
      ],
      "metadata": {
        "id": "13FfpdlsyMLZ"
      }
    },
    {
      "cell_type": "code",
      "source": [
        "# Open the file in read mode\n",
        "with open(\"example.txt\", \"r\") as file:\n",
        "    # Loop through each line in the file\n",
        "    for line in file:\n",
        "        # Print the line (removing the trailing newline character)\n",
        "        print(line.strip())\n"
      ],
      "metadata": {
        "colab": {
          "base_uri": "https://localhost:8080/"
        },
        "id": "BM5v9Wc4yKtY",
        "outputId": "4057834b-8198-438c-8673-7e2d1180772e"
      },
      "execution_count": 2,
      "outputs": [
        {
          "output_type": "stream",
          "name": "stdout",
          "text": [
            "Hello, world!\n"
          ]
        }
      ]
    },
    {
      "cell_type": "markdown",
      "source": [
        "Q3. How would you handle a case where the file doesn't exist while trying to open it for reading?"
      ],
      "metadata": {
        "id": "g10yY4DyzMvq"
      }
    },
    {
      "cell_type": "code",
      "source": [
        "try:\n",
        "    with open(\"sample.txt\", \"r\") as file:\n",
        "        for line in file:\n",
        "            print(line.strip())\n",
        "except FileNotFoundError:\n",
        "    print(\"Error: The file does not exist.\")\n"
      ],
      "metadata": {
        "colab": {
          "base_uri": "https://localhost:8080/"
        },
        "id": "mSiU6mcPyIX5",
        "outputId": "3bc08602-2a8e-46dc-99b3-579dd8b5bb7f"
      },
      "execution_count": 4,
      "outputs": [
        {
          "output_type": "stream",
          "name": "stdout",
          "text": [
            "Error: The file does not exist.\n"
          ]
        }
      ]
    },
    {
      "cell_type": "markdown",
      "source": [
        "Q4.  Write a Python script that reads from one file and writes its content to another file."
      ],
      "metadata": {
        "id": "vQ1DpJ9FzqAL"
      }
    },
    {
      "cell_type": "code",
      "source": [
        "def copy_file(source_file, destination_file):\n",
        "    try:\n",
        "        # Open the source file in read mode\n",
        "        with open(source_file, 'r') as src:\n",
        "            content = src.read()\n",
        "\n",
        "        # Open the destination file in write mode\n",
        "        with open(destination_file, 'w') as dest:\n",
        "            dest.write(content)\n",
        "\n",
        "        print(f\"Content copied from '{source_file}' to '{destination_file}' successfully.\")\n",
        "\n",
        "    except FileNotFoundError:\n",
        "        print(f\"Error: The file '{source_file}' was not found.\")\n",
        "    except IOError as e:\n",
        "        print(f\"I/O error occurred: {e}\")\n",
        "\n",
        "# Example usage\n",
        "source = 'input.txt'\n",
        "destination = 'output.txt'\n",
        "copy_file(source, destination)\n"
      ],
      "metadata": {
        "colab": {
          "base_uri": "https://localhost:8080/"
        },
        "id": "TZ4FWNAkyJMO",
        "outputId": "cbc4a21b-4d95-45b3-8dc2-be149188cbdf"
      },
      "execution_count": 6,
      "outputs": [
        {
          "output_type": "stream",
          "name": "stdout",
          "text": [
            "Content copied from 'input.txt' to 'output.txt' successfully.\n"
          ]
        }
      ]
    },
    {
      "cell_type": "markdown",
      "source": [
        "Q5.  How would you catch and handle division by zero error in Python?"
      ],
      "metadata": {
        "id": "d3snK-vI08b8"
      }
    },
    {
      "cell_type": "code",
      "source": [
        "def divide_numbers(a, b):\n",
        "    try:\n",
        "        result = a / b\n",
        "    except ZeroDivisionError:\n",
        "        print(\"Error: Cannot divide by zero.\")\n",
        "        result = None\n",
        "    return result\n",
        "\n",
        "# Example usage\n",
        "x = 10\n",
        "y = 0\n",
        "output = divide_numbers(x, y)\n",
        "print(\"Result:\", output)\n"
      ],
      "metadata": {
        "colab": {
          "base_uri": "https://localhost:8080/"
        },
        "id": "UZnExWLx1J13",
        "outputId": "015d62f5-3cbd-4801-f443-80b4f6d0226c"
      },
      "execution_count": 7,
      "outputs": [
        {
          "output_type": "stream",
          "name": "stdout",
          "text": [
            "Error: Cannot divide by zero.\n",
            "Result: None\n"
          ]
        }
      ]
    },
    {
      "cell_type": "markdown",
      "source": [
        "Q6.  Write a Python program that logs an error message to a log file when a division by zero exception occurs."
      ],
      "metadata": {
        "id": "QEr7VevI1Ywh"
      }
    },
    {
      "cell_type": "code",
      "source": [
        "import logging\n",
        "\n",
        "# Configure logging\n",
        "logging.basicConfig(\n",
        "    filename='error.log',       # Log file name\n",
        "    level=logging.ERROR,        # Log level\n",
        "    format='%(asctime)s - %(levelname)s - %(message)s'\n",
        ")\n",
        "\n",
        "def divide_numbers(a, b):\n",
        "    try:\n",
        "        return a / b\n",
        "    except ZeroDivisionError as e:\n",
        "        logging.error(\"Attempted to divide by zero: %s / %s\", a, b)\n",
        "        return None\n",
        "\n",
        "# Example usage\n",
        "x = 10\n",
        "y = 0\n",
        "result = divide_numbers(x, y)\n",
        "\n",
        "print(\"Result:\", result)\n"
      ],
      "metadata": {
        "colab": {
          "base_uri": "https://localhost:8080/"
        },
        "id": "7X_cjFry1Shr",
        "outputId": "1be1ff78-a50a-40a7-fe55-6d1451251a11"
      },
      "execution_count": 8,
      "outputs": [
        {
          "output_type": "stream",
          "name": "stderr",
          "text": [
            "ERROR:root:Attempted to divide by zero: 10 / 0\n"
          ]
        },
        {
          "output_type": "stream",
          "name": "stdout",
          "text": [
            "Result: None\n"
          ]
        }
      ]
    },
    {
      "cell_type": "markdown",
      "source": [
        "Q7.  How do you log information at different levels (INFO, ERROR, WARNING) in Python using the logging module?"
      ],
      "metadata": {
        "id": "sHshp51E117N"
      }
    },
    {
      "cell_type": "code",
      "source": [
        "import logging\n",
        "\n",
        "# Configure logging\n",
        "logging.basicConfig(\n",
        "    filename='app.log',\n",
        "    level=logging.DEBUG,  # Set lowest level to capture all messages >= DEBUG\n",
        "    format='%(asctime)s - %(levelname)s - %(message)s'\n",
        ")\n",
        "\n",
        "# Logging messages at different levels\n",
        "logging.debug(\"This is a DEBUG message\")\n",
        "logging.info(\"This is an INFO message\")\n",
        "logging.warning(\"This is a WARNING message\")\n",
        "logging.error(\"This is an ERROR message\")\n",
        "logging.critical(\"This is a CRITICAL message\")\n"
      ],
      "metadata": {
        "colab": {
          "base_uri": "https://localhost:8080/"
        },
        "id": "RlwOSQWQ2KgE",
        "outputId": "7202c980-b96c-40b8-e961-0f00d2087061"
      },
      "execution_count": 10,
      "outputs": [
        {
          "output_type": "stream",
          "name": "stderr",
          "text": [
            "WARNING:root:This is a WARNING message\n",
            "ERROR:root:This is an ERROR message\n",
            "CRITICAL:root:This is a CRITICAL message\n"
          ]
        }
      ]
    },
    {
      "cell_type": "markdown",
      "source": [
        "Q8.  Write a program to handle a file opening error using exception handling"
      ],
      "metadata": {
        "id": "a3sN4W903VVe"
      }
    },
    {
      "cell_type": "code",
      "source": [
        "def read_file(file_path):\n",
        "    try:\n",
        "        with open(file_path, 'r') as file:\n",
        "            content = file.read()\n",
        "            print(\"File content:\\n\", content)\n",
        "    except FileNotFoundError:\n",
        "        print(f\"Error: The file '{file_path}' was not found.\")\n",
        "    except PermissionError:\n",
        "        print(f\"Error: You do not have permission to access '{file_path}'.\")\n",
        "    except Exception as e:\n",
        "        print(f\"An unexpected error occurred: {e}\")\n",
        "\n",
        "# Example usage\n",
        "file_name = \"sampple.txt\"\n",
        "read_file(file_name)\n"
      ],
      "metadata": {
        "colab": {
          "base_uri": "https://localhost:8080/"
        },
        "id": "OlHW2eKo3jba",
        "outputId": "afa2aae7-6ca5-4eb7-c5c5-e54565ba10a9"
      },
      "execution_count": 11,
      "outputs": [
        {
          "output_type": "stream",
          "name": "stdout",
          "text": [
            "Error: The file 'sampple.txt' was not found.\n"
          ]
        }
      ]
    },
    {
      "cell_type": "markdown",
      "source": [
        "Q9. How can you read a file line by line and store its content in a list in Python?"
      ],
      "metadata": {
        "id": "oclQhQir301_"
      }
    },
    {
      "cell_type": "code",
      "source": [
        "def read_file_to_list(file_path):\n",
        "    lines = []\n",
        "    try:\n",
        "        with open(file_path, 'r') as file:\n",
        "            for line in file:\n",
        "                lines.append(line.strip())  # strip() removes newline and whitespace\n",
        "    except FileNotFoundError:\n",
        "        print(f\"Error: File '{file_path}' not found.\")\n",
        "    return lines\n",
        "\n",
        "# Example usage\n",
        "file_lines = read_file_to_list('example.txt')\n",
        "print(file_lines)\n"
      ],
      "metadata": {
        "colab": {
          "base_uri": "https://localhost:8080/"
        },
        "id": "Gy4Hq3NJ38PW",
        "outputId": "6c0dd97e-6577-46a1-f97e-2d363c8796ba"
      },
      "execution_count": 12,
      "outputs": [
        {
          "output_type": "stream",
          "name": "stdout",
          "text": [
            "['Hello, world!']\n"
          ]
        }
      ]
    },
    {
      "cell_type": "markdown",
      "source": [
        "Q10.  How can you append data to an existing file in Python?"
      ],
      "metadata": {
        "id": "1h-dYhqh4OtX"
      }
    },
    {
      "cell_type": "code",
      "source": [
        "def append_to_file(file_path, data):\n",
        "    try:\n",
        "        with open(file_path, 'a') as file:\n",
        "            file.write(data + '\\n')  # Add newline if needed\n",
        "        print(f\"Data appended to '{file_path}' successfully.\")\n",
        "    except Exception as e:\n",
        "        print(f\"An error occurred: {e}\")\n",
        "\n",
        "# Example usage\n",
        "append_to_file('example.txt', \"This is a new line.\")\n"
      ],
      "metadata": {
        "colab": {
          "base_uri": "https://localhost:8080/"
        },
        "id": "YU8hC0LM4WTf",
        "outputId": "af650593-af2b-45b7-c82b-e7b474086edf"
      },
      "execution_count": 13,
      "outputs": [
        {
          "output_type": "stream",
          "name": "stdout",
          "text": [
            "Data appended to 'example.txt' successfully.\n"
          ]
        }
      ]
    },
    {
      "cell_type": "markdown",
      "source": [
        "Q11. Write a Python program that uses a try-except block to handle an error when attempting to access a\n",
        "dictionary key that doesn't exist"
      ],
      "metadata": {
        "id": "r5t8abTR4-jB"
      }
    },
    {
      "cell_type": "code",
      "source": [
        "# Sample dictionary\n",
        "person = {\n",
        "    \"name\": \"Alice\",\n",
        "    \"age\": 30\n",
        "}\n",
        "\n",
        "# Attempt to access a non-existent key\n",
        "try:\n",
        "    # This key doesn't exist in the dictionary\n",
        "    address = person[\"address\"]\n",
        "    print(\"Address:\", address)\n",
        "except KeyError as e:\n",
        "    print(f\"KeyError: The key '{e}' does not exist in the dictionary.\")\n"
      ],
      "metadata": {
        "colab": {
          "base_uri": "https://localhost:8080/"
        },
        "id": "TpGsLMMe5F-z",
        "outputId": "b55af07a-00b9-496e-8765-4e16c2b08a81"
      },
      "execution_count": 14,
      "outputs": [
        {
          "output_type": "stream",
          "name": "stdout",
          "text": [
            "KeyError: The key ''address'' does not exist in the dictionary.\n"
          ]
        }
      ]
    },
    {
      "cell_type": "markdown",
      "source": [
        "Q12.  Write a program that demonstrates using multiple except blocks to handle different types of exceptions"
      ],
      "metadata": {
        "id": "MIrswNWW5j8O"
      }
    },
    {
      "cell_type": "code",
      "source": [
        "def divide_numbers():\n",
        "    try:\n",
        "        # Get input from user\n",
        "        num1 = int(input(\"Enter the numerator: \"))\n",
        "        num2 = int(input(\"Enter the denominator: \"))\n",
        "\n",
        "        # Perform division\n",
        "        result = num1 / num2\n",
        "        print(\"Result:\", result)\n",
        "\n",
        "    except ValueError:\n",
        "        print(\"ValueError: Please enter valid integers.\")\n",
        "\n",
        "    except ZeroDivisionError:\n",
        "        print(\"ZeroDivisionError: Cannot divide by zero.\")\n",
        "\n",
        "    except Exception as e:\n",
        "        print(f\"An unexpected error occurred: {e}\")\n",
        "\n",
        "# Run the function\n",
        "divide_numbers()\n"
      ],
      "metadata": {
        "colab": {
          "base_uri": "https://localhost:8080/"
        },
        "id": "4nmVPc4V5sxJ",
        "outputId": "7135c4c2-a0f6-4faf-b0d0-50ec964ff59c"
      },
      "execution_count": 15,
      "outputs": [
        {
          "output_type": "stream",
          "name": "stdout",
          "text": [
            "Enter the numerator: 10\n",
            "Enter the denominator: 0\n",
            "ZeroDivisionError: Cannot divide by zero.\n"
          ]
        }
      ]
    },
    {
      "cell_type": "markdown",
      "source": [
        "Q13.  How would you check if a file exists before attempting to read it in Python?"
      ],
      "metadata": {
        "id": "U8TbaZI25r3D"
      }
    },
    {
      "cell_type": "code",
      "source": [
        "import os\n",
        "\n",
        "file_path = \"example.txt\"\n",
        "\n",
        "if os.path.exists(file_path):\n",
        "    with open(file_path, 'r') as file:\n",
        "        content = file.read()\n",
        "        print(content)\n",
        "else:\n",
        "    print(f\"File '{file_path}' does not exist.\")\n"
      ],
      "metadata": {
        "colab": {
          "base_uri": "https://localhost:8080/"
        },
        "id": "pe3G6D_a5-cE",
        "outputId": "aad9ccd0-a33a-4384-b7f5-e0974242156f"
      },
      "execution_count": 16,
      "outputs": [
        {
          "output_type": "stream",
          "name": "stdout",
          "text": [
            "Hello, world!This is a new line.\n",
            "\n"
          ]
        }
      ]
    },
    {
      "cell_type": "markdown",
      "source": [
        "Q14.  Write a program that uses the logging module to log both informational and error messages,"
      ],
      "metadata": {
        "id": "e-fmsTz16Odh"
      }
    },
    {
      "cell_type": "code",
      "source": [
        "import logging\n",
        "\n",
        "# Configure logging\n",
        "logging.basicConfig(\n",
        "    level=logging.DEBUG,  # Set the minimum logging level\n",
        "    format='%(asctime)s - %(levelname)s - %(message)s',\n",
        "    filename='app.log',   # Log output goes to this file\n",
        "    filemode='w'          # Overwrite log file on each run\n",
        ")\n",
        "\n",
        "def divide(a, b):\n",
        "    logging.info(f\"Attempting to divide {a} by {b}\")\n",
        "    try:\n",
        "        result = a / b\n",
        "        logging.info(f\"Division successful: {result}\")\n",
        "        return result\n",
        "    except ZeroDivisionError:\n",
        "        logging.error(\"Attempted to divide by zero.\")\n",
        "    except Exception as e:\n",
        "        logging.error(f\"An unexpected error occurred: {e}\")\n",
        "\n",
        "# Example usage\n",
        "divide(10, 2)   # Should log informational messages\n",
        "divide(5, 0)    # Should log an error message\n"
      ],
      "metadata": {
        "colab": {
          "base_uri": "https://localhost:8080/"
        },
        "id": "GoqFT7rV6gwX",
        "outputId": "61647f0d-3d18-4fca-9dbd-fd9e958be6a0"
      },
      "execution_count": 17,
      "outputs": [
        {
          "output_type": "stream",
          "name": "stderr",
          "text": [
            "ERROR:root:Attempted to divide by zero.\n"
          ]
        }
      ]
    },
    {
      "cell_type": "markdown",
      "source": [
        "Q15. Write a Python program that prints the content of a file and handles the case when the file is empty"
      ],
      "metadata": {
        "id": "mvUQwuur6xDR"
      }
    },
    {
      "cell_type": "code",
      "source": [
        "def print_file_contents(filename):\n",
        "    try:\n",
        "        with open(filename, 'r') as file:\n",
        "            content = file.read()\n",
        "            if content.strip() == \"\":\n",
        "                print(f\"The file '{filename}' is empty.\")\n",
        "            else:\n",
        "                print(f\"Contents of '{filename}':\\n\")\n",
        "                print(content)\n",
        "    except FileNotFoundError:\n",
        "        print(f\"File '{filename}' was not found.\")\n",
        "    except Exception as e:\n",
        "        print(f\"An error occurred: {e}\")\n",
        "\n",
        "# Example usage\n",
        "file_name = \"example.txt\"  # Replace with your file name\n",
        "print_file_contents(file_name)\n"
      ],
      "metadata": {
        "colab": {
          "base_uri": "https://localhost:8080/"
        },
        "id": "lU-uf6ax66pn",
        "outputId": "ff1de5b3-45d4-491b-d28e-df92fe937c20"
      },
      "execution_count": 18,
      "outputs": [
        {
          "output_type": "stream",
          "name": "stdout",
          "text": [
            "Contents of 'example.txt':\n",
            "\n",
            "Hello, world!This is a new line.\n",
            "\n"
          ]
        }
      ]
    },
    {
      "cell_type": "markdown",
      "source": [
        "Q16.  Demonstrate how to use memory profiling to check the memory usage of a small program"
      ],
      "metadata": {
        "id": "kK2h6B3-7GF2"
      }
    },
    {
      "cell_type": "code",
      "source": [
        "!pip install memory-profiler\n",
        "\n",
        "from memory_profiler import profile\n",
        "\n",
        "@profile\n",
        "def create_large_list():\n",
        "    # Simulates memory usage\n",
        "    large_list = [i for i in range(1000000)]  # 1 million integers\n",
        "    return sum(large_list)\n",
        "\n",
        "if __name__ == \"__main__\":\n",
        "    create_large_list()\n",
        "\n"
      ],
      "metadata": {
        "colab": {
          "base_uri": "https://localhost:8080/"
        },
        "id": "LNkVOB8p7SDa",
        "outputId": "38755993-4052-41f7-f796-bda8fcadaf16"
      },
      "execution_count": 23,
      "outputs": [
        {
          "output_type": "stream",
          "name": "stdout",
          "text": [
            "Requirement already satisfied: memory-profiler in /usr/local/lib/python3.11/dist-packages (0.61.0)\n",
            "Requirement already satisfied: psutil in /usr/local/lib/python3.11/dist-packages (from memory-profiler) (5.9.5)\n",
            "ERROR: Could not find file /tmp/ipython-input-23-1692747590.py\n"
          ]
        }
      ]
    },
    {
      "cell_type": "code",
      "source": [
        "!python -m memory_profiler Files, exceptional handling, logging and memory management.py\n"
      ],
      "metadata": {
        "colab": {
          "base_uri": "https://localhost:8080/"
        },
        "id": "fpF_E81n8mjq",
        "outputId": "31ae4439-7470-401b-8ff6-44ce91fc5125"
      },
      "execution_count": 26,
      "outputs": [
        {
          "output_type": "stream",
          "name": "stdout",
          "text": [
            "Traceback (most recent call last):\n",
            "  File \"<frozen runpy>\", line 198, in _run_module_as_main\n",
            "  File \"<frozen runpy>\", line 88, in _run_code\n",
            "  File \"/usr/local/lib/python3.11/dist-packages/memory_profiler.py\", line 1353, in <module>\n",
            "    run_module_with_profiler(target, prof, args.backend, script_args)\n",
            "  File \"/usr/local/lib/python3.11/dist-packages/memory_profiler.py\", line 1267, in run_module_with_profiler\n",
            "    run_module(module, run_name=\"__main__\", init_globals=ns)\n",
            "  File \"<frozen runpy>\", line 222, in run_module\n",
            "  File \"<frozen runpy>\", line 142, in _get_module_details\n",
            "ImportError: No module named Files,\n"
          ]
        }
      ]
    },
    {
      "cell_type": "markdown",
      "source": [
        "Q17. Write a Python program to create and write a list of numbers to a file, one number per line"
      ],
      "metadata": {
        "id": "nKgPLEiG_N8W"
      }
    },
    {
      "cell_type": "code",
      "source": [
        "def write_numbers_to_file(filename, numbers):\n",
        "    try:\n",
        "        with open(filename, 'w') as file:\n",
        "            for number in numbers:\n",
        "                file.write(f\"{number}\\n\")\n",
        "        print(f\"Successfully wrote {len(numbers)} numbers to '{filename}'.\")\n",
        "    except Exception as e:\n",
        "        print(f\"An error occurred while writing to the file: {e}\")\n",
        "\n",
        "# Example usage\n",
        "numbers_list = list(range(1, 11))  # Numbers 1 to 10\n",
        "file_name = \"numbers.txt\"\n",
        "write_numbers_to_file(file_name, numbers_list)\n"
      ],
      "metadata": {
        "colab": {
          "base_uri": "https://localhost:8080/"
        },
        "id": "lVapmK41_Yn3",
        "outputId": "8fdf6475-c68d-4727-f312-4395cd0dcda9"
      },
      "execution_count": 29,
      "outputs": [
        {
          "output_type": "stream",
          "name": "stdout",
          "text": [
            "Successfully wrote 10 numbers to 'numbers.txt'.\n"
          ]
        }
      ]
    },
    {
      "cell_type": "markdown",
      "source": [
        "Q18.How would you implement a basic logging setup that logs to a file with rotation after 1MB"
      ],
      "metadata": {
        "id": "drMxPjGB_hAB"
      }
    },
    {
      "cell_type": "code",
      "source": [
        "import logging\n",
        "from logging.handlers import RotatingFileHandler\n",
        "\n",
        "# Set up logger\n",
        "logger = logging.getLogger(\"my_logger\")\n",
        "logger.setLevel(logging.DEBUG)  # You can adjust this level\n",
        "\n",
        "# Create a rotating file handler\n",
        "handler = RotatingFileHandler(\n",
        "    \"my_log.log\",            # Log file name\n",
        "    maxBytes=1 * 1024 * 1024,  # 1MB\n",
        "    backupCount=5             # Keep up to 5 backup files\n",
        ")\n",
        "\n",
        "# Create formatter and add to handler\n",
        "formatter = logging.Formatter(\n",
        "    '%(asctime)s - %(name)s - %(levelname)s - %(message)s'\n",
        ")\n",
        "handler.setFormatter(formatter)\n",
        "\n",
        "# Add handler to the logger\n",
        "logger.addHandler(handler)\n",
        "\n",
        "# Example usage\n",
        "logger.info(\"This is a test log message.\")\n"
      ],
      "metadata": {
        "colab": {
          "base_uri": "https://localhost:8080/"
        },
        "id": "Omgf7QF6_oBP",
        "outputId": "0db68352-78ad-4301-fc04-abbd5ebf5fdf"
      },
      "execution_count": 32,
      "outputs": [
        {
          "output_type": "stream",
          "name": "stderr",
          "text": [
            "INFO:my_logger:This is a test log message.\n"
          ]
        }
      ]
    },
    {
      "cell_type": "markdown",
      "source": [
        "Q19.  Write a program that handles both IndexError and KeyError using a try-except block"
      ],
      "metadata": {
        "id": "h5ouQXt8BBeU"
      }
    },
    {
      "cell_type": "code",
      "source": [
        "def handle_errors():\n",
        "    my_list = [10, 20, 30]\n",
        "    my_dict = {\"a\": 1, \"b\": 2}\n",
        "\n",
        "    try:\n",
        "        # This will raise IndexError\n",
        "        print(\"Accessing list element:\", my_list[5])\n",
        "\n",
        "        # This will raise KeyError\n",
        "        print(\"Accessing dict value:\", my_dict[\"z\"])\n",
        "\n",
        "    except IndexError as e:\n",
        "        print(\"Caught an IndexError:\", e)\n",
        "\n",
        "    except KeyError as e:\n",
        "        print(\"Caught a KeyError:\", e)\n",
        "\n",
        "    finally:\n",
        "        print(\"Finished handling errors.\")\n",
        "\n",
        "# Run the function\n",
        "handle_errors()\n"
      ],
      "metadata": {
        "colab": {
          "base_uri": "https://localhost:8080/"
        },
        "id": "DsH523D1Gx2B",
        "outputId": "c76cb4b1-07c4-47ce-9b44-6e0bc17e17e2"
      },
      "execution_count": 33,
      "outputs": [
        {
          "output_type": "stream",
          "name": "stdout",
          "text": [
            "Caught an IndexError: list index out of range\n",
            "Finished handling errors.\n"
          ]
        }
      ]
    },
    {
      "cell_type": "markdown",
      "source": [
        "Q20.  How would you open a file and read its contents using a context manager in Python"
      ],
      "metadata": {
        "id": "Gf1TuGYpHE_d"
      }
    },
    {
      "cell_type": "code",
      "source": [
        "# Open a file and read its contents using a context manager\n",
        "file_path = \"example.txt\"\n",
        "\n",
        "try:\n",
        "    with open(file_path, 'r') as file:\n",
        "        contents = file.read()\n",
        "        print(contents)\n",
        "except FileNotFoundError:\n",
        "    print(f\"The file {file_path} does not exist.\")\n"
      ],
      "metadata": {
        "colab": {
          "base_uri": "https://localhost:8080/"
        },
        "id": "Hhr9TH9-HNsx",
        "outputId": "11289842-c7db-46d0-9c63-a07e5c200421"
      },
      "execution_count": 34,
      "outputs": [
        {
          "output_type": "stream",
          "name": "stdout",
          "text": [
            "Hello, world!This is a new line.\n",
            "\n"
          ]
        }
      ]
    },
    {
      "cell_type": "markdown",
      "source": [
        "Q21.  Write a Python program that reads a file and prints the number of occurrences of a specific word."
      ],
      "metadata": {
        "id": "38jjyOFyHYES"
      }
    },
    {
      "cell_type": "code",
      "source": [
        "def count_word_occurrences(file_path, target_word):\n",
        "    try:\n",
        "        with open(file_path, 'r', encoding='utf-8') as file:\n",
        "            contents = file.read()\n",
        "\n",
        "            # Convert to lowercase for case-insensitive matching\n",
        "            words = contents.lower().split()\n",
        "            count = words.count(target_word.lower())\n",
        "\n",
        "            print(f\"The word '{target_word}' occurs {count} times in the file.\")\n",
        "\n",
        "    except FileNotFoundError:\n",
        "        print(f\"The file '{file_path}' does not exist.\")\n",
        "    except Exception as e:\n",
        "        print(f\"An error occurred: {e}\")\n",
        "\n",
        "# Example usage\n",
        "file_path = 'example.txt'  # Replace with your actual file path\n",
        "target_word = 'python'     # Replace with the word you're searching for\n",
        "\n",
        "count_word_occurrences(file_path, target_word)\n"
      ],
      "metadata": {
        "colab": {
          "base_uri": "https://localhost:8080/"
        },
        "id": "lKlqCAWWHf5T",
        "outputId": "acd70a81-d95f-43c2-a0fe-de3dceb52a1d"
      },
      "execution_count": 36,
      "outputs": [
        {
          "output_type": "stream",
          "name": "stdout",
          "text": [
            "The word 'python' occurs 0 times in the file.\n"
          ]
        }
      ]
    },
    {
      "cell_type": "markdown",
      "source": [
        "Q22.  How can you check if a file is empty before attempting to read its contents?"
      ],
      "metadata": {
        "id": "wu3qVRyGHzUj"
      }
    },
    {
      "cell_type": "code",
      "source": [
        "import os\n",
        "\n",
        "def read_file_if_not_empty(file_path):\n",
        "    if os.path.getsize(file_path) == 0:\n",
        "        print(f\"The file '{file_path}' is empty.\")\n",
        "        return\n",
        "\n",
        "    try:\n",
        "        with open(file_path, 'r', encoding='utf-8') as file:\n",
        "            contents = file.read()\n",
        "            print(\"File contents:\")\n",
        "            print(contents)\n",
        "    except FileNotFoundError:\n",
        "        print(f\"The file '{file_path}' does not exist.\")\n",
        "    except Exception as e:\n",
        "        print(f\"An error occurred: {e}\")\n",
        "\n",
        "# Example usage\n",
        "file_path = 'example.txt'  # Replace with your actual file path\n",
        "read_file_if_not_empty(file_path)\n"
      ],
      "metadata": {
        "colab": {
          "base_uri": "https://localhost:8080/"
        },
        "id": "8ENS41jZH9mC",
        "outputId": "bc0beaad-2918-4a15-cb4a-0e1deb235b43"
      },
      "execution_count": 37,
      "outputs": [
        {
          "output_type": "stream",
          "name": "stdout",
          "text": [
            "File contents:\n",
            "Hello, world!This is a new line.\n",
            "\n"
          ]
        }
      ]
    },
    {
      "cell_type": "markdown",
      "source": [
        "Q23. Write a Python program that writes to a log file when an error occurs during file handling."
      ],
      "metadata": {
        "id": "SuNHQhEwIJFY"
      }
    },
    {
      "cell_type": "code",
      "source": [
        "import logging\n",
        "\n",
        "# Set up logging configuration\n",
        "logging.basicConfig(\n",
        "    filename='file_handling_errors.log',  # Log file where errors will be written\n",
        "    level=logging.ERROR,  # Only log errors and above\n",
        "    format='%(asctime)s - %(levelname)s - %(message)s'\n",
        ")\n",
        "\n",
        "def read_file(file_path):\n",
        "    try:\n",
        "        with open(file_path, 'r', encoding='utf-8') as file:\n",
        "            contents = file.read()\n",
        "            print(contents)\n",
        "    except FileNotFoundError as e:\n",
        "        error_message = f\"FileNotFoundError: The file '{file_path}' does not exist.\"\n",
        "        logging.error(error_message)  # Log the error message\n",
        "        print(error_message)\n",
        "    except PermissionError as e:\n",
        "        error_message = f\"PermissionError: You do not have permission to access '{file_path}'.\"\n",
        "        logging.error(error_message)  # Log the error message\n",
        "        print(error_message)\n",
        "    except Exception as e:\n",
        "        error_message = f\"Unexpected error: {str(e)}\"\n",
        "        logging.error(error_message)  # Log the error message\n",
        "        print(error_message)\n",
        "\n",
        "def write_to_file(file_path, content):\n",
        "    try:\n",
        "        with open(file_path, 'w', encoding='utf-8') as file:\n",
        "            file.write(content)\n",
        "            print(\"Content written successfully.\")\n",
        "    except PermissionError as e:\n",
        "        error_message = f\"PermissionError: You do not have permission to write to '{file_path}'.\"\n",
        "        logging.error(error_message)  # Log the error message\n",
        "        print(error_message)\n",
        "    except Exception as e:\n",
        "        error_message = f\"Unexpected error: {str(e)}\"\n",
        "        logging.error(error_message)  # Log the error message\n",
        "        print(error_message)\n",
        "\n",
        "# Example usage\n",
        "file_path = 'example.txt'  # Replace with your actual file path\n",
        "\n",
        "# Try reading from a file\n",
        "read_file(file_path)\n",
        "\n",
        "# Try writing to a file\n",
        "write_to_file(file_path, \"This is a test content.\")\n"
      ],
      "metadata": {
        "id": "Bhbae4LGITWX",
        "outputId": "6620da99-5df4-44a7-9c86-933cfed0048b",
        "colab": {
          "base_uri": "https://localhost:8080/"
        }
      },
      "execution_count": 38,
      "outputs": [
        {
          "output_type": "stream",
          "name": "stdout",
          "text": [
            "Hello, world!This is a new line.\n",
            "\n",
            "Content written successfully.\n"
          ]
        }
      ]
    }
  ]
}